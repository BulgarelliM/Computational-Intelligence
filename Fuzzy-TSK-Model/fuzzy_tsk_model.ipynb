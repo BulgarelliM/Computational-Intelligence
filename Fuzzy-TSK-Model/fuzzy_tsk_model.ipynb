{
 "cells": [
  {
   "cell_type": "code",
   "execution_count": 64,
   "metadata": {},
   "outputs": [],
   "source": [
    "import numpy as np\n",
    "import random\n",
    "import matplotlib.pyplot as plt"
   ]
  },
  {
   "cell_type": "code",
   "execution_count": 65,
   "metadata": {},
   "outputs": [],
   "source": [
    "def plota_grafico (resultado_calculado):\n",
    "    plt.title(\"Curva estimada inicial x curva da função x^2\") \n",
    "    plt.xlabel(\"x axis\") \n",
    "    plt.ylabel(\"y axis\")\n",
    "    x = np.arange(-10, 10, 0.1)\n",
    "    y = x**2\n",
    "    \n",
    "    plt.plot(x,y, 'r', label=\"Função x^2\")\n",
    "    plt.plot(x, resultado_calculado, 'b', label=\"Curva estimada ajustada\")\n",
    "    plt.show()"
   ]
  },
  {
   "cell_type": "code",
   "execution_count": 66,
   "metadata": {},
   "outputs": [
    {
     "data": {
      "image/png": "[encoded data removed]",
      "text/plain": [
       "<Figure size 432x288 with 1 Axes>"
      ]
     },
     "metadata": {
      "needs_background": "light"
     },
     "output_type": "display_data"
    }
   ],
   "source": [
    "# Modelo Fuzzy TSK - sistema de inferência de Sugeno\n",
    "\n",
    "max_epocas = 1000\n",
    "num_ajustes = 1\n",
    "alpha = 0.01\n",
    "x=[]\n",
    "erro_ajuste=[]\n",
    "\n",
    "# preenche x\n",
    "x = np.arange(-10, 10, 0.1)\n",
    "x = x.tolist()\n",
    "\n",
    "# minimizar o erro da equação:\n",
    "e = 0\n",
    "\n",
    "# minimizar o erro de cada um dos parâmetros caminhar na direção contrária do gradiente\n",
    "p1 = 1\n",
    "q1 = 1\n",
    "x1_medio = 1\n",
    "sigma1 = 1\n",
    "\n",
    "p2=1\n",
    "q2=1\n",
    "x2_medio = 1\n",
    "sigma2 = 1\n",
    "\n",
    "\n",
    "for i in range(max_epocas):\n",
    "    aux_x = []\n",
    "    aux_x.extend(x)\n",
    "\n",
    "    for j in range(len(x)):\n",
    "        # ajuste dos parametros\n",
    "        for ajuste in range(num_ajustes):\n",
    "            xi = random.choice(aux_x)\n",
    "            aux_x.remove(xi)\n",
    "            w1 = np.exp(-(1/2)*((xi-x1_medio)/sigma1)**2)\n",
    "            w2 = np.exp(-(1/2)*((xi-x2_medio)/sigma2)**2)\n",
    "\n",
    "            w1_derivada = w1 / (w1 + w2)\n",
    "            w2_derivada = w2 / (w1 + w2)\n",
    "\n",
    "            y1 = p1*xi + q1\n",
    "            y2 = p2*xi + q2\n",
    "\n",
    "            y = ((w1*y1) + (w2*y2))/(w1 + w2)\n",
    "\n",
    "            yd = xi**2\n",
    "\n",
    "            e = y - yd\n",
    "\n",
    "            # Derivadas parciais da função erro em relação a cada um dos parâmetros\n",
    "            dedp1 = e*w1_derivada*xi\n",
    "            dedp2 = e*w2_derivada*xi\n",
    "            dedq1 = e*w1_derivada\n",
    "            dedq2 = e*w2_derivada\n",
    "\n",
    "            dedx1_medio = e*w2*((y1-y2)/((w1+w2)**2))*w1*((xi-x1_medio)/(sigma1**2))\n",
    "            dedx2_medio = e*w2*((y2-y1)/((w1+w2)**2))*w1*((xi-x2_medio)/(sigma2**2))\n",
    "\n",
    "            dedsigma1 = e*w2*((y1-y2)/((w1+w2)**2))*w1*(((xi-x1_medio)**2)/(sigma1**3))\n",
    "            dedsigma2 = e*w2*((y2-y1)/((w1+w2)**2))*w1*(((xi-x2_medio)**2)/(sigma2**3))\n",
    "\n",
    "            # Ajustes\n",
    "            p1 = p1 - alpha*dedp1\n",
    "            p2 = p2 - alpha*dedp2\n",
    "            q1 = q1 - alpha*dedq1\n",
    "            q2 = q2 - alpha*dedq2\n",
    "            sigma1 = sigma1 - alpha*dedsigma1\n",
    "            sigma2 = sigma2 - alpha*dedsigma2\n",
    "            x1_medio = x1_medio - alpha*dedx1_medio\n",
    "            x2_medio = x2_medio - alpha*dedx2_medio\n",
    "\n",
    "    erro_ajuste.append(1/2*(e)**2)\n",
    "\n",
    "# Resultado final\n",
    "resultado_calculado = []\n",
    "\n",
    "for xi in x:\n",
    "    w1 = np.exp(-(1/2)*((xi-x1_medio)/sigma1)**2)\n",
    "    w2 = np.exp(-(1/2)*((xi-x2_medio)/sigma2)**2)\n",
    "\n",
    "    y1 = p1*xi + q1\n",
    "    y2 = p2*xi + q2\n",
    "\n",
    "    y = ((w1*y1) + (w2*y2))/(w1 + w2)\n",
    "    resultado_calculado.append(y)\n",
    "    #print(y)\n",
    "#print(resultado_calculado)\n",
    "plota_grafico(resultado_calculado)"
   ]
  }
 ],
 "metadata": {
  "interpreter": {
   "hash": "af698c02722c81864863429d928a3bd8a8dcc030c4156359d3ef8b980fb01319"
  },
  "kernelspec": {
   "display_name": "Python 3.9.5 64-bit",
   "name": "python3"
  },
  "language_info": {
   "codemirror_mode": {
    "name": "ipython",
    "version": 3
   },
   "file_extension": ".py",
   "mimetype": "text/x-python",
   "name": "python",
   "nbconvert_exporter": "python",
   "pygments_lexer": "ipython3",
   "version": "3.9.5"
  },
  "orig_nbformat": 4
 },
 "nbformat": 4,
 "nbformat_minor": 2
}
