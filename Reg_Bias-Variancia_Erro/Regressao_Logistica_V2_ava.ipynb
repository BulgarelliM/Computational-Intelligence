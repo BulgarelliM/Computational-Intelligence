{
 "cells": [
  {
   "cell_type": "markdown",
   "metadata": {
    "run_control": {
     "marked": true
    }
   },
   "source": [
    "#  Logistic Regression and Classification Error Metrics"
   ]
  },
  {
   "cell_type": "markdown",
   "metadata": {},
   "source": [
    "## <span style=\"color:blue\">Alunos</span>\n",
    "\n",
    "<ul>\n",
    "    <li>Diego Santos Gonçalves - 20183012537</li>\n",
    "    <li>Mariana Bulgarelli Alves dos Santos - 20183000330</li>\n",
    "</ul>"
   ]
  },
  {
   "cell_type": "markdown",
   "metadata": {
    "run_control": {
     "marked": true
    }
   },
   "source": [
    "## Introduction\n",
    "\n",
    "We will be using the [Human Activity Recognition with Smartphones](https://archive.ics.uci.edu/ml/datasets/Human+Activity+Recognition+Using+Smartphones) database, which was built from the recordings of study participants performing activities of daily living (ADL) while carrying a smartphone with an embedded inertial sensors. The objective is to classify activities into one of the six activities (walking, walking upstairs, walking downstairs, sitting, standing, and laying) performed.\n",
    "\n",
    "For each record in the dataset it is provided: \n",
    "\n",
    "- Triaxial acceleration from the accelerometer (total acceleration) and the estimated body acceleration. \n",
    "- Triaxial Angular velocity from the gyroscope. \n",
    "- A 561-feature vector with time and frequency domain variables. \n",
    "- Its activity label. \n",
    "\n",
    "More information about the features is available on the website: above or at https://www.kaggle.com/uciml/human-activity-recognition-with-smartphones "
   ]
  },
  {
   "cell_type": "code",
   "execution_count": 42,
   "metadata": {
    "run_control": {
     "marked": true
    }
   },
   "outputs": [],
   "source": [
    "from __future__ import print_function\n",
    "from sklearn.linear_model import LogisticRegression\n",
    "from sklearn.linear_model import LogisticRegressionCV\n",
    "from sklearn.metrics import precision_recall_fscore_support as score\n",
    "from sklearn.metrics import confusion_matrix, accuracy_score, roc_auc_score\n",
    "from sklearn.preprocessing import label_binarize\n",
    "import os\n",
    "import pickle\n",
    "#Data Path has to be set as per the file location in your system\n",
    "#data_path = ['..', 'data']\n",
    "data_path = ['../../']"
   ]
  },
  {
   "cell_type": "markdown",
   "metadata": {
    "run_control": {
     "marked": true
    }
   },
   "source": [
    "## Question 1\n",
    "\n",
    "Import the data and do the following:\n",
    "\n",
    "* Examine the data types--there are many columns, so it might be wise to use value counts\n",
    "* Determine if the floating point values need to be scaled\n",
    "* Determine the breakdown of each activity\n",
    "* Encode the activity label as an integer"
   ]
  },
  {
   "cell_type": "code",
   "execution_count": 9,
   "metadata": {
    "run_control": {
     "marked": true
    }
   },
   "outputs": [],
   "source": [
    "import pandas as pd\n",
    "import numpy as np\n",
    "#The filepath is dependent on the data_path set in the previous cell \n",
    "filepath = os.sep.join(data_path + ['Human_Activity_Recognition_Using_Smartphones_Data.csv'])\n",
    "data = pd.read_csv(filepath, sep=',')"
   ]
  },
  {
   "cell_type": "markdown",
   "metadata": {
    "run_control": {
     "marked": true
    }
   },
   "source": [
    "The data columns are all floats except for the activity label."
   ]
  },
  {
   "cell_type": "code",
   "execution_count": 10,
   "metadata": {
    "run_control": {
     "marked": true
    }
   },
   "outputs": [
    {
     "data": {
      "text/plain": [
       "float64    561\n",
       "object       1\n",
       "dtype: int64"
      ]
     },
     "execution_count": 10,
     "metadata": {},
     "output_type": "execute_result"
    }
   ],
   "source": [
    "data.dtypes.value_counts()"
   ]
  },
  {
   "cell_type": "code",
   "execution_count": 11,
   "metadata": {
    "run_control": {
     "marked": true
    }
   },
   "outputs": [
    {
     "data": {
      "text/plain": [
       "angle(tBodyGyroJerkMean,gravityMean)    float64\n",
       "angle(X,gravityMean)                    float64\n",
       "angle(Y,gravityMean)                    float64\n",
       "angle(Z,gravityMean)                    float64\n",
       "Activity                                 object\n",
       "dtype: object"
      ]
     },
     "execution_count": 11,
     "metadata": {},
     "output_type": "execute_result"
    }
   ],
   "source": [
    "data.dtypes.tail()"
   ]
  },
  {
   "cell_type": "markdown",
   "metadata": {
    "run_control": {
     "marked": true
    }
   },
   "source": [
    "The data are all scaled from -1 (minimum) to 1.0 (maximum)."
   ]
  },
  {
   "cell_type": "code",
   "execution_count": 12,
   "metadata": {
    "run_control": {
     "marked": true
    }
   },
   "outputs": [
    {
     "data": {
      "text/plain": [
       "-1.0    561\n",
       "dtype: int64"
      ]
     },
     "execution_count": 12,
     "metadata": {},
     "output_type": "execute_result"
    }
   ],
   "source": [
    "data.iloc[:, :-1].min().value_counts()"
   ]
  },
  {
   "cell_type": "code",
   "execution_count": 13,
   "metadata": {
    "run_control": {
     "marked": true
    }
   },
   "outputs": [
    {
     "data": {
      "text/plain": [
       "1.0    561\n",
       "dtype: int64"
      ]
     },
     "execution_count": 13,
     "metadata": {},
     "output_type": "execute_result"
    }
   ],
   "source": [
    "data.iloc[:, :-1].max().value_counts()"
   ]
  },
  {
   "cell_type": "markdown",
   "metadata": {},
   "source": [
    "Examine the breakdown of activities--they are relatively balanced."
   ]
  },
  {
   "cell_type": "code",
   "execution_count": 14,
   "metadata": {},
   "outputs": [
    {
     "data": {
      "text/plain": [
       "LAYING                1944\n",
       "STANDING              1906\n",
       "SITTING               1777\n",
       "WALKING               1722\n",
       "WALKING_UPSTAIRS      1544\n",
       "WALKING_DOWNSTAIRS    1406\n",
       "Name: Activity, dtype: int64"
      ]
     },
     "execution_count": 14,
     "metadata": {},
     "output_type": "execute_result"
    }
   ],
   "source": [
    "data.Activity.value_counts()"
   ]
  },
  {
   "cell_type": "markdown",
   "metadata": {},
   "source": [
    "Scikit learn classifiers won't accept a sparse matrix for the prediction column. Thus, either `LabelEncoder` needs to be used to convert the activity labels to integers, or if `DictVectorizer` is used, the resulting matrix must be converted to a non-sparse array.  \n",
    "Use `LabelEncoder` to fit_transform the \"Activity\" column, and look at 5 random values."
   ]
  },
  {
   "cell_type": "code",
   "execution_count": 15,
   "metadata": {},
   "outputs": [
    {
     "data": {
      "text/plain": [
       "9684     3\n",
       "2945     0\n",
       "3532     3\n",
       "10051    4\n",
       "5903     1\n",
       "Name: Activity, dtype: int32"
      ]
     },
     "execution_count": 15,
     "metadata": {},
     "output_type": "execute_result"
    }
   ],
   "source": [
    "from sklearn.preprocessing import LabelEncoder\n",
    "\n",
    "le = LabelEncoder()\n",
    "data['Activity'] = le.fit_transform(data.Activity)\n",
    "data['Activity'].sample(5)"
   ]
  },
  {
   "cell_type": "markdown",
   "metadata": {},
   "source": [
    "## Question 2\n",
    "\n",
    "* Calculate the correlations between the dependent variables.\n",
    "* Create a histogram of the correlation values\n",
    "* Identify those that are most correlated (either positively or negatively)."
   ]
  },
  {
   "cell_type": "code",
   "execution_count": 16,
   "metadata": {},
   "outputs": [],
   "source": [
    "# Calculate the correlation values\n",
    "feature_cols = data.columns[:-1]\n",
    "corr_values = data[feature_cols].corr()\n",
    "\n",
    "# Simplify by emptying all the data below the diagonal\n",
    "tril_index = np.tril_indices_from(corr_values)\n",
    "\n",
    "# Make the unused values NaNs\n",
    "for coord in zip(*tril_index):\n",
    "    corr_values.iloc[coord[0], coord[1]] = np.NaN\n",
    "    \n",
    "# Stack the data and convert to a data frame\n",
    "corr_values = (corr_values.stack().to_frame().reset_index().rename(columns={'level_0':'feature1','level_1':'feature2',0:'correlation'}))\n",
    "\n",
    "# Get the absolute values for sorting\n",
    "corr_values['abs_correlation'] = corr_values.correlation.abs()"
   ]
  },
  {
   "cell_type": "markdown",
   "metadata": {},
   "source": [
    "A histogram of the absolute value correlations."
   ]
  },
  {
   "cell_type": "code",
   "execution_count": 17,
   "metadata": {},
   "outputs": [],
   "source": [
    "import matplotlib.pyplot as plt\n",
    "import seaborn as sns\n",
    "%matplotlib inline"
   ]
  },
  {
   "cell_type": "code",
   "execution_count": 18,
   "metadata": {},
   "outputs": [
    {
     "data": {
      "image/png": "[encoded data removed]",
      "text/plain": [
       "<Figure size 432x288 with 1 Axes>"
      ]
     },
     "metadata": {},
     "output_type": "display_data"
    }
   ],
   "source": [
    "sns.set_context('talk')\n",
    "sns.set_style('white')\n",
    "sns.set_palette('dark')\n",
    "\n",
    "ax = corr_values.abs_correlation.hist(bins=50)\n",
    "\n",
    "ax.set(xlabel='Absolute Correlation', ylabel='Frequency');"
   ]
  },
  {
   "cell_type": "code",
   "execution_count": 19,
   "metadata": {},
   "outputs": [
    {
     "data": {
      "text/html": [
       "<div>\n",
       "<style scoped>\n",
       "    .dataframe tbody tr th:only-of-type {\n",
       "        vertical-align: middle;\n",
       "    }\n",
       "\n",
       "    .dataframe tbody tr th {\n",
       "        vertical-align: top;\n",
       "    }\n",
       "\n",
       "    .dataframe thead th {\n",
       "        text-align: right;\n",
       "    }\n",
       "</style>\n",
       "<table border=\"1\" class=\"dataframe\">\n",
       "  <thead>\n",
       "    <tr style=\"text-align: right;\">\n",
       "      <th></th>\n",
       "      <th>feature1</th>\n",
       "      <th>feature2</th>\n",
       "      <th>correlation</th>\n",
       "      <th>abs_correlation</th>\n",
       "    </tr>\n",
       "  </thead>\n",
       "  <tbody>\n",
       "    <tr>\n",
       "      <th>156894</th>\n",
       "      <td>fBodyBodyGyroJerkMag-mean()</td>\n",
       "      <td>fBodyBodyGyroJerkMag-sma()</td>\n",
       "      <td>1.000000</td>\n",
       "      <td>1.000000</td>\n",
       "    </tr>\n",
       "    <tr>\n",
       "      <th>93902</th>\n",
       "      <td>tBodyAccMag-sma()</td>\n",
       "      <td>tGravityAccMag-sma()</td>\n",
       "      <td>1.000000</td>\n",
       "      <td>1.000000</td>\n",
       "    </tr>\n",
       "    <tr>\n",
       "      <th>101139</th>\n",
       "      <td>tBodyAccJerkMag-mean()</td>\n",
       "      <td>tBodyAccJerkMag-sma()</td>\n",
       "      <td>1.000000</td>\n",
       "      <td>1.000000</td>\n",
       "    </tr>\n",
       "    <tr>\n",
       "      <th>96706</th>\n",
       "      <td>tGravityAccMag-mean()</td>\n",
       "      <td>tGravityAccMag-sma()</td>\n",
       "      <td>1.000000</td>\n",
       "      <td>1.000000</td>\n",
       "    </tr>\n",
       "    <tr>\n",
       "      <th>94257</th>\n",
       "      <td>tBodyAccMag-energy()</td>\n",
       "      <td>tGravityAccMag-energy()</td>\n",
       "      <td>1.000000</td>\n",
       "      <td>1.000000</td>\n",
       "    </tr>\n",
       "    <tr>\n",
       "      <th>...</th>\n",
       "      <td>...</td>\n",
       "      <td>...</td>\n",
       "      <td>...</td>\n",
       "      <td>...</td>\n",
       "    </tr>\n",
       "    <tr>\n",
       "      <th>22657</th>\n",
       "      <td>tGravityAcc-mean()-Y</td>\n",
       "      <td>angle(Y,gravityMean)</td>\n",
       "      <td>-0.993425</td>\n",
       "      <td>0.993425</td>\n",
       "    </tr>\n",
       "    <tr>\n",
       "      <th>39225</th>\n",
       "      <td>tGravityAcc-arCoeff()-Z,3</td>\n",
       "      <td>tGravityAcc-arCoeff()-Z,4</td>\n",
       "      <td>-0.994267</td>\n",
       "      <td>0.994267</td>\n",
       "    </tr>\n",
       "    <tr>\n",
       "      <th>38739</th>\n",
       "      <td>tGravityAcc-arCoeff()-Z,2</td>\n",
       "      <td>tGravityAcc-arCoeff()-Z,3</td>\n",
       "      <td>-0.994628</td>\n",
       "      <td>0.994628</td>\n",
       "    </tr>\n",
       "    <tr>\n",
       "      <th>23176</th>\n",
       "      <td>tGravityAcc-mean()-Z</td>\n",
       "      <td>angle(Z,gravityMean)</td>\n",
       "      <td>-0.994764</td>\n",
       "      <td>0.994764</td>\n",
       "    </tr>\n",
       "    <tr>\n",
       "      <th>38252</th>\n",
       "      <td>tGravityAcc-arCoeff()-Z,1</td>\n",
       "      <td>tGravityAcc-arCoeff()-Z,2</td>\n",
       "      <td>-0.995195</td>\n",
       "      <td>0.995195</td>\n",
       "    </tr>\n",
       "  </tbody>\n",
       "</table>\n",
       "<p>22815 rows × 4 columns</p>\n",
       "</div>"
      ],
      "text/plain": [
       "                           feature1                    feature2  correlation  \\\n",
       "156894  fBodyBodyGyroJerkMag-mean()  fBodyBodyGyroJerkMag-sma()     1.000000   \n",
       "93902             tBodyAccMag-sma()        tGravityAccMag-sma()     1.000000   \n",
       "101139       tBodyAccJerkMag-mean()       tBodyAccJerkMag-sma()     1.000000   \n",
       "96706         tGravityAccMag-mean()        tGravityAccMag-sma()     1.000000   \n",
       "94257          tBodyAccMag-energy()     tGravityAccMag-energy()     1.000000   \n",
       "...                             ...                         ...          ...   \n",
       "22657          tGravityAcc-mean()-Y        angle(Y,gravityMean)    -0.993425   \n",
       "39225     tGravityAcc-arCoeff()-Z,3   tGravityAcc-arCoeff()-Z,4    -0.994267   \n",
       "38739     tGravityAcc-arCoeff()-Z,2   tGravityAcc-arCoeff()-Z,3    -0.994628   \n",
       "23176          tGravityAcc-mean()-Z        angle(Z,gravityMean)    -0.994764   \n",
       "38252     tGravityAcc-arCoeff()-Z,1   tGravityAcc-arCoeff()-Z,2    -0.995195   \n",
       "\n",
       "        abs_correlation  \n",
       "156894         1.000000  \n",
       "93902          1.000000  \n",
       "101139         1.000000  \n",
       "96706          1.000000  \n",
       "94257          1.000000  \n",
       "...                 ...  \n",
       "22657          0.993425  \n",
       "39225          0.994267  \n",
       "38739          0.994628  \n",
       "23176          0.994764  \n",
       "38252          0.995195  \n",
       "\n",
       "[22815 rows x 4 columns]"
      ]
     },
     "execution_count": 19,
     "metadata": {},
     "output_type": "execute_result"
    }
   ],
   "source": [
    "# The most highly correlated values\n",
    "corr_values.sort_values('correlation', ascending=False).query('abs_correlation>0.8')"
   ]
  },
  {
   "cell_type": "markdown",
   "metadata": {},
   "source": [
    "## Question 3\n",
    "\n",
    "* Split the data into train and test data sets. This can be done using any method, but consider using Scikit-learn's `StratifiedShuffleSplit` to maintain the same ratio of predictor classes.\n",
    "* Regardless of methods used to split the data, compare the ratio of classes in both the train and test splits.\n"
   ]
  },
  {
   "cell_type": "code",
   "execution_count": 20,
   "metadata": {},
   "outputs": [],
   "source": [
    "from sklearn.model_selection import StratifiedShuffleSplit\n",
    "\n",
    "# Get the split indexes\n",
    "strat_shuf_split = StratifiedShuffleSplit(n_splits=1,test_size=0.3, random_state=42)\n",
    "\n",
    "train_idx, test_idx = next(strat_shuf_split.split(data[feature_cols], data.Activity))\n",
    "\n",
    "# Create the dataframes\n",
    "X_train = data.loc[train_idx, feature_cols]\n",
    "y_train = data.loc[train_idx, 'Activity']\n",
    "\n",
    "X_test  = data.loc[test_idx, feature_cols]\n",
    "y_test  = data.loc[test_idx, 'Activity']\n"
   ]
  },
  {
   "cell_type": "code",
   "execution_count": 21,
   "metadata": {},
   "outputs": [
    {
     "data": {
      "text/plain": [
       "0    0.188792\n",
       "2    0.185046\n",
       "1    0.172562\n",
       "3    0.167152\n",
       "5    0.149951\n",
       "4    0.136496\n",
       "Name: Activity, dtype: float64"
      ]
     },
     "execution_count": 21,
     "metadata": {},
     "output_type": "execute_result"
    }
   ],
   "source": [
    "y_train.value_counts(normalize=True)"
   ]
  },
  {
   "cell_type": "code",
   "execution_count": 22,
   "metadata": {},
   "outputs": [
    {
     "data": {
      "text/plain": [
       "0    0.188673\n",
       "2    0.185113\n",
       "1    0.172492\n",
       "3    0.167314\n",
       "5    0.149838\n",
       "4    0.136570\n",
       "Name: Activity, dtype: float64"
      ]
     },
     "execution_count": 22,
     "metadata": {},
     "output_type": "execute_result"
    }
   ],
   "source": [
    "y_test.value_counts(normalize=True)"
   ]
  },
  {
   "cell_type": "markdown",
   "metadata": {},
   "source": [
    "## Question 4\n",
    "\n",
    "* Fit a logistic regression model without any regularization using all of the features. Be sure to read the documentation about fitting a multi-class model so you understand the coefficient output. Store the model.\n",
    "* Using cross validation to determine the hyperparameters, fit models using L1, and L2 regularization. Store each of these models as well. Note the limitations on multi-class models, solvers, and regularizations. The regularized models, in particular the L1 model, will probably take a while to fit."
   ]
  },
  {
   "cell_type": "code",
   "execution_count": 16,
   "metadata": {},
   "outputs": [
    {
     "data": {
      "text/plain": [
       "array([[ -72.59754795,   12.32427208,   16.21886472, ...,  627.00260654,\n",
       "        -239.55648089,  -56.83034869],\n",
       "       [-237.74670101,  -93.2319069 ,   26.78555557, ...,  -68.77298671,\n",
       "        -130.18248629,  -86.8186573 ],\n",
       "       [ 108.42892719,   72.30661716,   78.42765402, ..., -265.05848213,\n",
       "         215.73397989,   18.97337224],\n",
       "       [   5.11515344,  -15.86361579,    4.44866939, ..., -113.70469674,\n",
       "           4.95871362,   59.43114703],\n",
       "       [ 139.75854785,   32.09034603,    1.54859909, ..., -230.3935513 ,\n",
       "         -18.95909446,   -8.72447285],\n",
       "       [  57.04162049,   -7.62571258, -127.42934278, ...,   50.92711034,\n",
       "         168.00536813,   73.96895957]])"
      ]
     },
     "execution_count": 16,
     "metadata": {},
     "output_type": "execute_result"
    }
   ],
   "source": [
    "from sklearn.linear_model import LogisticRegression\n",
    "\n",
    "# Standard logistic regression\n",
    "lr = LogisticRegression(max_iter=500, penalty='none').fit(X_train, y_train)\n",
    "lr.coef_"
   ]
  },
  {
   "cell_type": "markdown",
   "metadata": {},
   "source": [
    "Treinou-se o modelo utilizando o conjunto de dados de treino. Como parâmetros passados à função de regressão logística temos o número máximo de iterações de 500 e o tipo de penalidade (regularização) que foi definido como 'none'. Em seguida, obteve-se os valores dos coeficientes da função de custo."
   ]
  },
  {
   "cell_type": "code",
   "execution_count": 17,
   "metadata": {},
   "outputs": [],
   "source": [
    "from sklearn.linear_model import LogisticRegressionCV\n",
    "\n",
    "# L1 regularized logistic regression\n",
    "lr_l1 = LogisticRegressionCV(Cs=10, cv=4, penalty='l1', solver='liblinear').fit(X_train, y_train)"
   ]
  },
  {
   "cell_type": "code",
   "execution_count": 28,
   "metadata": {},
   "outputs": [
    {
     "data": {
      "text/plain": [
       "array([[ 0.        ,  0.        ,  0.        , ...,  3.55620485,\n",
       "        -0.6976506 ,  0.        ],\n",
       "       [ 0.        ,  0.        ,  0.        , ..., -8.00971699,\n",
       "         0.        ,  0.        ],\n",
       "       [ 0.        ,  0.        ,  0.        , ...,  0.        ,\n",
       "         0.        ,  0.        ],\n",
       "       [-1.14547729,  0.        ,  0.        , ..., -0.44087012,\n",
       "        -0.2105932 ,  0.        ],\n",
       "       [ 3.79142465,  0.        ,  0.        , ..., -0.69439424,\n",
       "         0.        ,  0.        ],\n",
       "       [-0.48598364,  0.        , -0.25246446, ...,  0.3021803 ,\n",
       "         2.18878905,  1.92441364]])"
      ]
     },
     "execution_count": 28,
     "metadata": {},
     "output_type": "execute_result"
    }
   ],
   "source": [
    "lr_l1.coef_"
   ]
  },
  {
   "cell_type": "code",
   "execution_count": null,
   "metadata": {},
   "outputs": [],
   "source": [
    "#Try with different solvers like ‘newton-cg’, ‘lbfgs’, ‘sag’, ‘saga’ and give your observations\n",
    "# Comentamos o código pois este solver não existe para lasso regression.\n"
   ]
  },
  {
   "cell_type": "code",
   "execution_count": null,
   "metadata": {},
   "outputs": [],
   "source": [
    "# Comentamos o código pois estes solvers não existem para lasso regression.\n",
    "'''lr_l1_lbfgs = LogisticRegressionCV(Cs=10, cv=4, penalty='l1', solver='lbfgs').fit(X_train, y_train)'''\n",
    "'''lr_l1_sag = LogisticRegressionCV(Cs=10, cv=4, penalty='l1', solver='sag').fit(X_train, y_train)'''\n",
    "#lr_l1_newton = LogisticRegressionCV(Cs=10, cv=4, penalty='l1', solver='newton-cg').fit(X_train, y_train)"
   ]
  },
  {
   "cell_type": "code",
   "execution_count": 23,
   "metadata": {},
   "outputs": [
    {
     "name": "stderr",
     "output_type": "stream",
     "text": [
      "C:\\Users\\maria\\AppData\\Local\\Programs\\Python\\Python39\\lib\\site-packages\\sklearn\\linear_model\\_sag.py:328: ConvergenceWarning: The max_iter was reached which means the coef_ did not converge\n",
      "  warnings.warn(\"The max_iter was reached which means \"\n",
      "C:\\Users\\maria\\AppData\\Local\\Programs\\Python\\Python39\\lib\\site-packages\\sklearn\\linear_model\\_sag.py:328: ConvergenceWarning: The max_iter was reached which means the coef_ did not converge\n",
      "  warnings.warn(\"The max_iter was reached which means \"\n",
      "C:\\Users\\maria\\AppData\\Local\\Programs\\Python\\Python39\\lib\\site-packages\\sklearn\\linear_model\\_sag.py:328: ConvergenceWarning: The max_iter was reached which means the coef_ did not converge\n",
      "  warnings.warn(\"The max_iter was reached which means \"\n",
      "C:\\Users\\maria\\AppData\\Local\\Programs\\Python\\Python39\\lib\\site-packages\\sklearn\\linear_model\\_sag.py:328: ConvergenceWarning: The max_iter was reached which means the coef_ did not converge\n",
      "  warnings.warn(\"The max_iter was reached which means \"\n",
      "C:\\Users\\maria\\AppData\\Local\\Programs\\Python\\Python39\\lib\\site-packages\\sklearn\\linear_model\\_sag.py:328: ConvergenceWarning: The max_iter was reached which means the coef_ did not converge\n",
      "  warnings.warn(\"The max_iter was reached which means \"\n",
      "C:\\Users\\maria\\AppData\\Local\\Programs\\Python\\Python39\\lib\\site-packages\\sklearn\\linear_model\\_sag.py:328: ConvergenceWarning: The max_iter was reached which means the coef_ did not converge\n",
      "  warnings.warn(\"The max_iter was reached which means \"\n",
      "C:\\Users\\maria\\AppData\\Local\\Programs\\Python\\Python39\\lib\\site-packages\\sklearn\\linear_model\\_sag.py:328: ConvergenceWarning: The max_iter was reached which means the coef_ did not converge\n",
      "  warnings.warn(\"The max_iter was reached which means \"\n",
      "C:\\Users\\maria\\AppData\\Local\\Programs\\Python\\Python39\\lib\\site-packages\\sklearn\\linear_model\\_sag.py:328: ConvergenceWarning: The max_iter was reached which means the coef_ did not converge\n",
      "  warnings.warn(\"The max_iter was reached which means \"\n",
      "C:\\Users\\maria\\AppData\\Local\\Programs\\Python\\Python39\\lib\\site-packages\\sklearn\\linear_model\\_sag.py:328: ConvergenceWarning: The max_iter was reached which means the coef_ did not converge\n",
      "  warnings.warn(\"The max_iter was reached which means \"\n",
      "C:\\Users\\maria\\AppData\\Local\\Programs\\Python\\Python39\\lib\\site-packages\\sklearn\\linear_model\\_sag.py:328: ConvergenceWarning: The max_iter was reached which means the coef_ did not converge\n",
      "  warnings.warn(\"The max_iter was reached which means \"\n",
      "C:\\Users\\maria\\AppData\\Local\\Programs\\Python\\Python39\\lib\\site-packages\\sklearn\\linear_model\\_sag.py:328: ConvergenceWarning: The max_iter was reached which means the coef_ did not converge\n",
      "  warnings.warn(\"The max_iter was reached which means \"\n",
      "C:\\Users\\maria\\AppData\\Local\\Programs\\Python\\Python39\\lib\\site-packages\\sklearn\\linear_model\\_sag.py:328: ConvergenceWarning: The max_iter was reached which means the coef_ did not converge\n",
      "  warnings.warn(\"The max_iter was reached which means \"\n",
      "C:\\Users\\maria\\AppData\\Local\\Programs\\Python\\Python39\\lib\\site-packages\\sklearn\\linear_model\\_sag.py:328: ConvergenceWarning: The max_iter was reached which means the coef_ did not converge\n",
      "  warnings.warn(\"The max_iter was reached which means \"\n",
      "C:\\Users\\maria\\AppData\\Local\\Programs\\Python\\Python39\\lib\\site-packages\\sklearn\\linear_model\\_sag.py:328: ConvergenceWarning: The max_iter was reached which means the coef_ did not converge\n",
      "  warnings.warn(\"The max_iter was reached which means \"\n",
      "C:\\Users\\maria\\AppData\\Local\\Programs\\Python\\Python39\\lib\\site-packages\\sklearn\\linear_model\\_sag.py:328: ConvergenceWarning: The max_iter was reached which means the coef_ did not converge\n",
      "  warnings.warn(\"The max_iter was reached which means \"\n",
      "C:\\Users\\maria\\AppData\\Local\\Programs\\Python\\Python39\\lib\\site-packages\\sklearn\\linear_model\\_sag.py:328: ConvergenceWarning: The max_iter was reached which means the coef_ did not converge\n",
      "  warnings.warn(\"The max_iter was reached which means \"\n",
      "C:\\Users\\maria\\AppData\\Local\\Programs\\Python\\Python39\\lib\\site-packages\\sklearn\\linear_model\\_sag.py:328: ConvergenceWarning: The max_iter was reached which means the coef_ did not converge\n",
      "  warnings.warn(\"The max_iter was reached which means \"\n",
      "C:\\Users\\maria\\AppData\\Local\\Programs\\Python\\Python39\\lib\\site-packages\\sklearn\\linear_model\\_sag.py:328: ConvergenceWarning: The max_iter was reached which means the coef_ did not converge\n",
      "  warnings.warn(\"The max_iter was reached which means \"\n",
      "C:\\Users\\maria\\AppData\\Local\\Programs\\Python\\Python39\\lib\\site-packages\\sklearn\\linear_model\\_sag.py:328: ConvergenceWarning: The max_iter was reached which means the coef_ did not converge\n",
      "  warnings.warn(\"The max_iter was reached which means \"\n",
      "C:\\Users\\maria\\AppData\\Local\\Programs\\Python\\Python39\\lib\\site-packages\\sklearn\\linear_model\\_sag.py:328: ConvergenceWarning: The max_iter was reached which means the coef_ did not converge\n",
      "  warnings.warn(\"The max_iter was reached which means \"\n",
      "C:\\Users\\maria\\AppData\\Local\\Programs\\Python\\Python39\\lib\\site-packages\\sklearn\\linear_model\\_sag.py:328: ConvergenceWarning: The max_iter was reached which means the coef_ did not converge\n",
      "  warnings.warn(\"The max_iter was reached which means \"\n",
      "C:\\Users\\maria\\AppData\\Local\\Programs\\Python\\Python39\\lib\\site-packages\\sklearn\\linear_model\\_sag.py:328: ConvergenceWarning: The max_iter was reached which means the coef_ did not converge\n",
      "  warnings.warn(\"The max_iter was reached which means \"\n",
      "C:\\Users\\maria\\AppData\\Local\\Programs\\Python\\Python39\\lib\\site-packages\\sklearn\\linear_model\\_sag.py:328: ConvergenceWarning: The max_iter was reached which means the coef_ did not converge\n",
      "  warnings.warn(\"The max_iter was reached which means \"\n",
      "C:\\Users\\maria\\AppData\\Local\\Programs\\Python\\Python39\\lib\\site-packages\\sklearn\\linear_model\\_sag.py:328: ConvergenceWarning: The max_iter was reached which means the coef_ did not converge\n",
      "  warnings.warn(\"The max_iter was reached which means \"\n",
      "C:\\Users\\maria\\AppData\\Local\\Programs\\Python\\Python39\\lib\\site-packages\\sklearn\\linear_model\\_sag.py:328: ConvergenceWarning: The max_iter was reached which means the coef_ did not converge\n",
      "  warnings.warn(\"The max_iter was reached which means \"\n",
      "C:\\Users\\maria\\AppData\\Local\\Programs\\Python\\Python39\\lib\\site-packages\\sklearn\\linear_model\\_sag.py:328: ConvergenceWarning: The max_iter was reached which means the coef_ did not converge\n",
      "  warnings.warn(\"The max_iter was reached which means \"\n",
      "C:\\Users\\maria\\AppData\\Local\\Programs\\Python\\Python39\\lib\\site-packages\\sklearn\\linear_model\\_sag.py:328: ConvergenceWarning: The max_iter was reached which means the coef_ did not converge\n",
      "  warnings.warn(\"The max_iter was reached which means \"\n",
      "C:\\Users\\maria\\AppData\\Local\\Programs\\Python\\Python39\\lib\\site-packages\\sklearn\\linear_model\\_sag.py:328: ConvergenceWarning: The max_iter was reached which means the coef_ did not converge\n",
      "  warnings.warn(\"The max_iter was reached which means \"\n",
      "C:\\Users\\maria\\AppData\\Local\\Programs\\Python\\Python39\\lib\\site-packages\\sklearn\\linear_model\\_sag.py:328: ConvergenceWarning: The max_iter was reached which means the coef_ did not converge\n",
      "  warnings.warn(\"The max_iter was reached which means \"\n",
      "C:\\Users\\maria\\AppData\\Local\\Programs\\Python\\Python39\\lib\\site-packages\\sklearn\\linear_model\\_sag.py:328: ConvergenceWarning: The max_iter was reached which means the coef_ did not converge\n",
      "  warnings.warn(\"The max_iter was reached which means \"\n",
      "C:\\Users\\maria\\AppData\\Local\\Programs\\Python\\Python39\\lib\\site-packages\\sklearn\\linear_model\\_sag.py:328: ConvergenceWarning: The max_iter was reached which means the coef_ did not converge\n",
      "  warnings.warn(\"The max_iter was reached which means \"\n",
      "C:\\Users\\maria\\AppData\\Local\\Programs\\Python\\Python39\\lib\\site-packages\\sklearn\\linear_model\\_sag.py:328: ConvergenceWarning: The max_iter was reached which means the coef_ did not converge\n",
      "  warnings.warn(\"The max_iter was reached which means \"\n",
      "C:\\Users\\maria\\AppData\\Local\\Programs\\Python\\Python39\\lib\\site-packages\\sklearn\\linear_model\\_sag.py:328: ConvergenceWarning: The max_iter was reached which means the coef_ did not converge\n",
      "  warnings.warn(\"The max_iter was reached which means \"\n"
     ]
    }
   ],
   "source": [
    "lr_l1_saga = LogisticRegressionCV(Cs=10, cv=4, penalty='l1', solver='saga').fit(X_train, y_train)"
   ]
  },
  {
   "cell_type": "code",
   "execution_count": 24,
   "metadata": {},
   "outputs": [
    {
     "data": {
      "text/plain": [
       "array([[-9.54132071e-02,  1.54591081e-02,  2.56794069e-02, ...,\n",
       "         1.87824761e+00, -6.73167859e-01, -8.77210183e-02],\n",
       "       [-3.64725681e-01, -1.57197949e-01, -4.38332354e-02, ...,\n",
       "        -3.63178088e-01, -2.43439842e-01, -1.96940846e-01],\n",
       "       [ 2.82017594e-01,  1.10329268e-01,  1.02811154e-01, ...,\n",
       "        -5.89823507e-01,  1.19092795e+00,  3.11639680e-01],\n",
       "       [-1.04889624e-02, -9.28657976e-03,  7.64166163e-04, ...,\n",
       "        -7.66966387e-02, -3.98408027e-02,  4.38535035e-02],\n",
       "       [ 3.10540403e-01,  5.04501526e-02, -2.22826991e-02, ...,\n",
       "        -4.51422403e-01, -1.34855778e-01, -1.40329591e-01],\n",
       "       [-4.18376981e-02, -2.03587991e-02, -6.06386485e-02, ...,\n",
       "         4.97111662e-01,  3.54685054e-01,  1.25543613e-01]])"
      ]
     },
     "execution_count": 24,
     "metadata": {},
     "output_type": "execute_result"
    }
   ],
   "source": [
    "lr_l1_saga.coef_"
   ]
  },
  {
   "cell_type": "markdown",
   "metadata": {},
   "source": [
    "<span style=\"color:red\">---------------------------------------------------------------------------------------------</span>\n",
    "## <span style=\"color:red\">RESPOSTA</span>\n",
    "\n",
    "Nesta parte, são executadas as regressões logísticas considerando a lasso regression para diferentes solvers. No entanto, alguns solvers não estão disponíveis para l1: newton-cg, lbfgs e sag. Estes solvers fazem uso de derivada para cálculo.\n",
    "A penalidade lasso diminui alguns coeficiente, podendo chegar a zero. A penalidade L1 não é derivável, o que seria problemático para métodos quasi-newton.\n",
    "Observa-se que a utilização do solver saga resultou em um tempo maior de execução em relação à liblinear. Idealmente, o liblinear é uma melhor escolha para conjunto de dados pequenos, enquanto a saga atua bem para conjuntos de dados maiores.\n",
    "\n",
    "<span style=\"color:red\">---------------------------------------------------------------------------------------------</span>"
   ]
  },
  {
   "cell_type": "code",
   "execution_count": 25,
   "metadata": {},
   "outputs": [],
   "source": [
    "# L2 regularized logistic regression\n",
    "lr_l2 = LogisticRegressionCV(Cs=10, cv=4, penalty='l2', max_iter=10000).fit(X_train, y_train)"
   ]
  },
  {
   "cell_type": "code",
   "execution_count": 27,
   "metadata": {},
   "outputs": [
    {
     "data": {
      "text/plain": [
       "array([[-5.65101556e-02,  3.59693620e-02, -2.84105511e-03, ...,\n",
       "         5.60655766e+00, -3.12452277e+00, -3.14027671e-01],\n",
       "       [-2.24334841e+00, -1.54836147e+00, -1.07255994e+00, ...,\n",
       "        -3.51744317e+00, -1.65897986e+00, -1.24350561e-01],\n",
       "       [ 2.00344077e+00,  1.39297827e+00,  1.58588317e+00, ...,\n",
       "        -1.90475677e+00,  4.73572575e+00,  2.75429080e-01],\n",
       "       [-8.03482048e-02, -4.33613530e-02, -1.03945673e-02, ...,\n",
       "        -3.88614218e-01, -2.35990293e-01,  1.54575732e-01],\n",
       "       [ 6.46884988e-01,  2.64744795e-01, -9.50717963e-02, ...,\n",
       "        -8.98736865e-01, -5.87510360e-01, -4.47833961e-01],\n",
       "       [-2.70118980e-01, -1.01969599e-01, -4.05015809e-01, ...,\n",
       "         1.10299336e+00,  8.71277543e-01,  4.56207380e-01]])"
      ]
     },
     "execution_count": 27,
     "metadata": {},
     "output_type": "execute_result"
    }
   ],
   "source": [
    "lr_l2.coef_"
   ]
  },
  {
   "cell_type": "code",
   "execution_count": 29,
   "metadata": {},
   "outputs": [],
   "source": [
    "import pickle\n",
    "with open('arquivo_lr_l1.pickle', 'wb') as f:\n",
    "    pickle.dump(lr_l1, f)\n",
    "with open('arquivo_lr_l1_saga.pickle', 'wb') as f:\n",
    "    pickle.dump(lr_l1_saga, f)\n",
    "with open('arquivo_lr_l2.pickle', 'wb') as f:\n",
    "    pickle.dump(lr_l2, f)"
   ]
  },
  {
   "cell_type": "code",
   "execution_count": null,
   "metadata": {},
   "outputs": [],
   "source": [
    "with open('arquivo_lr.pickle', 'wb') as f:\n",
    "    pickle.dump(lr, f)"
   ]
  },
  {
   "cell_type": "markdown",
   "metadata": {},
   "source": [
    "<span style=\"color:red\">---------------------------------------------------------------------------------------------</span>\n",
    "## <span style=\"color:red\">RESPOSTA</span>\n",
    "\n",
    "Aqui é executada a regressão logística utilizando o l2 como penalidade. Por padrão, o solver de l2 é o lbfgs. \n",
    "\n",
    "<span style=\"color:red\">---------------------------------------------------------------------------------------------</span>"
   ]
  },
  {
   "cell_type": "markdown",
   "metadata": {},
   "source": [
    "## Question 5\n",
    "\n",
    "Compare the magnitudes of the coefficients for each of the models. If one-vs-rest fitting was used, each set of coefficients can be plotted separately. "
   ]
  },
  {
   "cell_type": "code",
   "execution_count": 30,
   "metadata": {},
   "outputs": [
    {
     "data": {
      "text/html": [
       "<div>\n",
       "<style scoped>\n",
       "    .dataframe tbody tr th:only-of-type {\n",
       "        vertical-align: middle;\n",
       "    }\n",
       "\n",
       "    .dataframe tbody tr th {\n",
       "        vertical-align: top;\n",
       "    }\n",
       "\n",
       "    .dataframe thead tr th {\n",
       "        text-align: left;\n",
       "    }\n",
       "</style>\n",
       "<table border=\"1\" class=\"dataframe\">\n",
       "  <thead>\n",
       "    <tr>\n",
       "      <th></th>\n",
       "      <th colspan=\"6\" halign=\"left\">lr</th>\n",
       "      <th colspan=\"6\" halign=\"left\">l1</th>\n",
       "      <th colspan=\"6\" halign=\"left\">l2</th>\n",
       "    </tr>\n",
       "    <tr>\n",
       "      <th></th>\n",
       "      <th>0</th>\n",
       "      <th>1</th>\n",
       "      <th>2</th>\n",
       "      <th>3</th>\n",
       "      <th>4</th>\n",
       "      <th>5</th>\n",
       "      <th>0</th>\n",
       "      <th>1</th>\n",
       "      <th>2</th>\n",
       "      <th>3</th>\n",
       "      <th>4</th>\n",
       "      <th>5</th>\n",
       "      <th>0</th>\n",
       "      <th>1</th>\n",
       "      <th>2</th>\n",
       "      <th>3</th>\n",
       "      <th>4</th>\n",
       "      <th>5</th>\n",
       "    </tr>\n",
       "  </thead>\n",
       "  <tbody>\n",
       "    <tr>\n",
       "      <th>284</th>\n",
       "      <td>-73.617778</td>\n",
       "      <td>-53.267537</td>\n",
       "      <td>-77.897683</td>\n",
       "      <td>-17.558910</td>\n",
       "      <td>125.237901</td>\n",
       "      <td>97.104007</td>\n",
       "      <td>0.000000</td>\n",
       "      <td>0.000000</td>\n",
       "      <td>0.000000</td>\n",
       "      <td>-0.493443</td>\n",
       "      <td>1.453034</td>\n",
       "      <td>0.414326</td>\n",
       "      <td>-0.124917</td>\n",
       "      <td>1.131049</td>\n",
       "      <td>-1.562803</td>\n",
       "      <td>-0.331750</td>\n",
       "      <td>0.607558</td>\n",
       "      <td>0.280864</td>\n",
       "    </tr>\n",
       "    <tr>\n",
       "      <th>524</th>\n",
       "      <td>-51.236112</td>\n",
       "      <td>151.882288</td>\n",
       "      <td>9.327376</td>\n",
       "      <td>-56.694591</td>\n",
       "      <td>-71.987814</td>\n",
       "      <td>18.708854</td>\n",
       "      <td>-0.089924</td>\n",
       "      <td>0.409222</td>\n",
       "      <td>-0.325117</td>\n",
       "      <td>0.499388</td>\n",
       "      <td>-0.010890</td>\n",
       "      <td>0.642755</td>\n",
       "      <td>-0.027525</td>\n",
       "      <td>1.308179</td>\n",
       "      <td>-1.365808</td>\n",
       "      <td>-0.224660</td>\n",
       "      <td>-0.308708</td>\n",
       "      <td>0.618521</td>\n",
       "    </tr>\n",
       "    <tr>\n",
       "      <th>513</th>\n",
       "      <td>27.455021</td>\n",
       "      <td>216.843554</td>\n",
       "      <td>55.107958</td>\n",
       "      <td>-276.150074</td>\n",
       "      <td>-96.384255</td>\n",
       "      <td>73.127795</td>\n",
       "      <td>0.000000</td>\n",
       "      <td>0.000000</td>\n",
       "      <td>-0.437023</td>\n",
       "      <td>-1.964464</td>\n",
       "      <td>0.000000</td>\n",
       "      <td>1.326421</td>\n",
       "      <td>-0.015051</td>\n",
       "      <td>2.439164</td>\n",
       "      <td>-1.624830</td>\n",
       "      <td>-1.287170</td>\n",
       "      <td>-0.317789</td>\n",
       "      <td>0.805677</td>\n",
       "    </tr>\n",
       "    <tr>\n",
       "      <th>41</th>\n",
       "      <td>260.316689</td>\n",
       "      <td>266.032694</td>\n",
       "      <td>-338.842392</td>\n",
       "      <td>-0.607562</td>\n",
       "      <td>45.378959</td>\n",
       "      <td>-232.278388</td>\n",
       "      <td>0.000000</td>\n",
       "      <td>6.109126</td>\n",
       "      <td>-6.109357</td>\n",
       "      <td>0.611318</td>\n",
       "      <td>0.023726</td>\n",
       "      <td>-3.343540</td>\n",
       "      <td>3.224072</td>\n",
       "      <td>4.351251</td>\n",
       "      <td>-7.516958</td>\n",
       "      <td>0.316954</td>\n",
       "      <td>0.885904</td>\n",
       "      <td>-1.261223</td>\n",
       "    </tr>\n",
       "    <tr>\n",
       "      <th>91</th>\n",
       "      <td>-26.568811</td>\n",
       "      <td>60.777629</td>\n",
       "      <td>-68.052025</td>\n",
       "      <td>-75.448659</td>\n",
       "      <td>140.984316</td>\n",
       "      <td>-31.692451</td>\n",
       "      <td>0.000000</td>\n",
       "      <td>0.000000</td>\n",
       "      <td>0.000000</td>\n",
       "      <td>-0.259897</td>\n",
       "      <td>1.321853</td>\n",
       "      <td>-0.149668</td>\n",
       "      <td>-0.095548</td>\n",
       "      <td>1.392106</td>\n",
       "      <td>-1.535489</td>\n",
       "      <td>-0.510438</td>\n",
       "      <td>1.064439</td>\n",
       "      <td>-0.315070</td>\n",
       "    </tr>\n",
       "    <tr>\n",
       "      <th>167</th>\n",
       "      <td>-36.022682</td>\n",
       "      <td>-67.257192</td>\n",
       "      <td>49.133609</td>\n",
       "      <td>0.248471</td>\n",
       "      <td>72.581482</td>\n",
       "      <td>-18.683688</td>\n",
       "      <td>-0.235354</td>\n",
       "      <td>0.000000</td>\n",
       "      <td>0.000000</td>\n",
       "      <td>0.000000</td>\n",
       "      <td>0.011030</td>\n",
       "      <td>-0.370378</td>\n",
       "      <td>-0.062594</td>\n",
       "      <td>-1.318358</td>\n",
       "      <td>1.249286</td>\n",
       "      <td>0.076953</td>\n",
       "      <td>0.239697</td>\n",
       "      <td>-0.184983</td>\n",
       "    </tr>\n",
       "    <tr>\n",
       "      <th>419</th>\n",
       "      <td>2.638530</td>\n",
       "      <td>29.343263</td>\n",
       "      <td>49.961747</td>\n",
       "      <td>-3.293586</td>\n",
       "      <td>-6.594133</td>\n",
       "      <td>-72.055821</td>\n",
       "      <td>-0.051960</td>\n",
       "      <td>0.038589</td>\n",
       "      <td>0.329037</td>\n",
       "      <td>0.024998</td>\n",
       "      <td>0.053020</td>\n",
       "      <td>0.166353</td>\n",
       "      <td>-0.063494</td>\n",
       "      <td>0.033914</td>\n",
       "      <td>0.055622</td>\n",
       "      <td>0.200843</td>\n",
       "      <td>0.035200</td>\n",
       "      <td>-0.262085</td>\n",
       "    </tr>\n",
       "    <tr>\n",
       "      <th>62</th>\n",
       "      <td>103.397631</td>\n",
       "      <td>152.642453</td>\n",
       "      <td>-69.793670</td>\n",
       "      <td>-462.106980</td>\n",
       "      <td>87.613408</td>\n",
       "      <td>188.247157</td>\n",
       "      <td>0.195082</td>\n",
       "      <td>1.856974</td>\n",
       "      <td>0.000000</td>\n",
       "      <td>-3.336098</td>\n",
       "      <td>0.939737</td>\n",
       "      <td>3.070655</td>\n",
       "      <td>1.254558</td>\n",
       "      <td>2.070205</td>\n",
       "      <td>-2.087473</td>\n",
       "      <td>-3.156646</td>\n",
       "      <td>0.471392</td>\n",
       "      <td>1.447963</td>\n",
       "    </tr>\n",
       "    <tr>\n",
       "      <th>14</th>\n",
       "      <td>36.791337</td>\n",
       "      <td>160.887003</td>\n",
       "      <td>-90.280475</td>\n",
       "      <td>43.106010</td>\n",
       "      <td>-77.412452</td>\n",
       "      <td>-73.091422</td>\n",
       "      <td>0.000000</td>\n",
       "      <td>1.571740</td>\n",
       "      <td>0.000000</td>\n",
       "      <td>-0.219887</td>\n",
       "      <td>-0.866732</td>\n",
       "      <td>0.000000</td>\n",
       "      <td>-0.013966</td>\n",
       "      <td>2.931528</td>\n",
       "      <td>-2.355694</td>\n",
       "      <td>0.011867</td>\n",
       "      <td>-0.551185</td>\n",
       "      <td>-0.022549</td>\n",
       "    </tr>\n",
       "    <tr>\n",
       "      <th>344</th>\n",
       "      <td>-83.472378</td>\n",
       "      <td>-104.089594</td>\n",
       "      <td>-32.578204</td>\n",
       "      <td>47.778247</td>\n",
       "      <td>60.933309</td>\n",
       "      <td>111.428619</td>\n",
       "      <td>0.000000</td>\n",
       "      <td>0.000000</td>\n",
       "      <td>0.000000</td>\n",
       "      <td>0.000000</td>\n",
       "      <td>0.266603</td>\n",
       "      <td>0.000000</td>\n",
       "      <td>-0.114454</td>\n",
       "      <td>-1.233090</td>\n",
       "      <td>0.716668</td>\n",
       "      <td>0.024929</td>\n",
       "      <td>0.152821</td>\n",
       "      <td>0.453127</td>\n",
       "    </tr>\n",
       "  </tbody>\n",
       "</table>\n",
       "</div>"
      ],
      "text/plain": [
       "             lr                                                              \\\n",
       "              0           1           2           3           4           5   \n",
       "284  -73.617778  -53.267537  -77.897683  -17.558910  125.237901   97.104007   \n",
       "524  -51.236112  151.882288    9.327376  -56.694591  -71.987814   18.708854   \n",
       "513   27.455021  216.843554   55.107958 -276.150074  -96.384255   73.127795   \n",
       "41   260.316689  266.032694 -338.842392   -0.607562   45.378959 -232.278388   \n",
       "91   -26.568811   60.777629  -68.052025  -75.448659  140.984316  -31.692451   \n",
       "167  -36.022682  -67.257192   49.133609    0.248471   72.581482  -18.683688   \n",
       "419    2.638530   29.343263   49.961747   -3.293586   -6.594133  -72.055821   \n",
       "62   103.397631  152.642453  -69.793670 -462.106980   87.613408  188.247157   \n",
       "14    36.791337  160.887003  -90.280475   43.106010  -77.412452  -73.091422   \n",
       "344  -83.472378 -104.089594  -32.578204   47.778247   60.933309  111.428619   \n",
       "\n",
       "           l1                                                          l2  \\\n",
       "            0         1         2         3         4         5         0   \n",
       "284  0.000000  0.000000  0.000000 -0.493443  1.453034  0.414326 -0.124917   \n",
       "524 -0.089924  0.409222 -0.325117  0.499388 -0.010890  0.642755 -0.027525   \n",
       "513  0.000000  0.000000 -0.437023 -1.964464  0.000000  1.326421 -0.015051   \n",
       "41   0.000000  6.109126 -6.109357  0.611318  0.023726 -3.343540  3.224072   \n",
       "91   0.000000  0.000000  0.000000 -0.259897  1.321853 -0.149668 -0.095548   \n",
       "167 -0.235354  0.000000  0.000000  0.000000  0.011030 -0.370378 -0.062594   \n",
       "419 -0.051960  0.038589  0.329037  0.024998  0.053020  0.166353 -0.063494   \n",
       "62   0.195082  1.856974  0.000000 -3.336098  0.939737  3.070655  1.254558   \n",
       "14   0.000000  1.571740  0.000000 -0.219887 -0.866732  0.000000 -0.013966   \n",
       "344  0.000000  0.000000  0.000000  0.000000  0.266603  0.000000 -0.114454   \n",
       "\n",
       "                                                       \n",
       "            1         2         3         4         5  \n",
       "284  1.131049 -1.562803 -0.331750  0.607558  0.280864  \n",
       "524  1.308179 -1.365808 -0.224660 -0.308708  0.618521  \n",
       "513  2.439164 -1.624830 -1.287170 -0.317789  0.805677  \n",
       "41   4.351251 -7.516958  0.316954  0.885904 -1.261223  \n",
       "91   1.392106 -1.535489 -0.510438  1.064439 -0.315070  \n",
       "167 -1.318358  1.249286  0.076953  0.239697 -0.184983  \n",
       "419  0.033914  0.055622  0.200843  0.035200 -0.262085  \n",
       "62   2.070205 -2.087473 -3.156646  0.471392  1.447963  \n",
       "14   2.931528 -2.355694  0.011867 -0.551185 -0.022549  \n",
       "344 -1.233090  0.716668  0.024929  0.152821  0.453127  "
      ]
     },
     "execution_count": 30,
     "metadata": {},
     "output_type": "execute_result"
    }
   ],
   "source": [
    "# Combine all the coefficients into a dataframe\n",
    "coefficients = list()\n",
    "\n",
    "coeff_labels = ['lr', 'l1', 'l2']\n",
    "coeff_models = [lr, lr_l1, lr_l2]\n",
    "\n",
    "#for lab,mod in zip(coeff_labels, coeff_models):\n",
    "#    coeffs = mod.coef_\n",
    "#    levels=[[lab], [0,1,2,3,4,5]]\n",
    "#    labels=[[0,0,0,0,0,0], [0,1,2,3,4,5]]\n",
    "#    coeff_label = pd.MultiIndex(levels,labels)\n",
    "#    coefficients.append(pd.DataFrame(coeffs.T, columns=coeff_label))\n",
    "\n",
    "for lab,mod in zip(coeff_labels, coeff_models):\n",
    "    coeffs = mod.coef_\n",
    "    coeff_label = pd.MultiIndex(levels=[[lab], [0,1,2,3,4,5]], \n",
    "                                 codes=[[0,0,0,0,0,0], [0,1,2,3,4,5]])\n",
    "    coefficients.append(pd.DataFrame(coeffs.T, columns=coeff_label))\n",
    "\n",
    "coefficients = pd.concat(coefficients, axis=1)\n",
    "\n",
    "coefficients.sample(10)\n",
    "\n"
   ]
  },
  {
   "cell_type": "markdown",
   "metadata": {},
   "source": [
    "Prepare six separate plots for each of the multi-class coefficients."
   ]
  },
  {
   "cell_type": "code",
   "execution_count": 31,
   "metadata": {},
   "outputs": [
    {
     "data": {
      "image/png": "[encoded data removed]",
      "text/plain": [
       "<Figure size 720x720 with 6 Axes>"
      ]
     },
     "metadata": {},
     "output_type": "display_data"
    }
   ],
   "source": [
    "fig, axList = plt.subplots(nrows=3, ncols=2)\n",
    "axList = axList.flatten()\n",
    "fig.set_size_inches(10,10)\n",
    "\n",
    "\n",
    "for ax in enumerate(axList):\n",
    "    loc = ax[0]\n",
    "    ax = ax[1]\n",
    "    \n",
    "    data_aux = coefficients.xs(loc, level=1, axis=1)\n",
    "    data_aux.plot(marker='o', ls='', ms=2.0, ax=ax, legend=False)\n",
    "    \n",
    "    if ax is axList[0]:\n",
    "        ax.legend(loc=4)\n",
    "        \n",
    "    ax.set(title='Coefficient Set '+str(loc))\n",
    "\n",
    "plt.tight_layout()\n",
    "\n",
    "\n"
   ]
  },
  {
   "cell_type": "markdown",
   "metadata": {},
   "source": [
    "<span style=\"color:red\">---------------------------------------------------------------------------------------------</span>\n",
    "## <span style=\"color:red\">RESPOSTA</span>\n",
    "\n",
    "Todos os coeficientes resultantes das regressoes logísticas sem regularização, com regularização l1 (solver=liblinear) e com regularização l2 (solver=lbfgs) são reunidos em um unico dataframe.\n",
    "Conforme esperado, o modelo sem regularização apresentou valores de coeficiente maiores do que os modelos que utilizaram regularização. O modelo com regularização l1 apresentou alguns valores iguais a zero, o que também era esperado. Ambos os modelos com penalidade aplicada apresentaram valores menores que o modelo sem regularização. A regularização l2 atinge valores pequenos, porém nenhum deles é igual a zero.\n",
    "Em seguida é plotado um conjunto de gráficos com os coeficientes encontrados para cada modelo. Nos gráficos, pode-se observar que os dados dos modelos regularizados com l1 e l2 se concentram próximos (l1 e l2) ou iguais a zero (l1). Os valores dos coeficientes são maiores. \n",
    "\n",
    "\n",
    "<span style=\"color:red\">---------------------------------------------------------------------------------------------</span>"
   ]
  },
  {
   "cell_type": "markdown",
   "metadata": {},
   "source": [
    "## Question 6\n",
    "\n",
    "* Predict and store the class for each model.\n",
    "* Also store the probability for the predicted class for each model. "
   ]
  },
  {
   "cell_type": "code",
   "execution_count": 32,
   "metadata": {},
   "outputs": [
    {
     "data": {
      "text/html": [
       "<div>\n",
       "<style scoped>\n",
       "    .dataframe tbody tr th:only-of-type {\n",
       "        vertical-align: middle;\n",
       "    }\n",
       "\n",
       "    .dataframe tbody tr th {\n",
       "        vertical-align: top;\n",
       "    }\n",
       "\n",
       "    .dataframe thead th {\n",
       "        text-align: right;\n",
       "    }\n",
       "</style>\n",
       "<table border=\"1\" class=\"dataframe\">\n",
       "  <thead>\n",
       "    <tr style=\"text-align: right;\">\n",
       "      <th></th>\n",
       "      <th>lr</th>\n",
       "      <th>l1</th>\n",
       "      <th>l2</th>\n",
       "    </tr>\n",
       "  </thead>\n",
       "  <tbody>\n",
       "    <tr>\n",
       "      <th>0</th>\n",
       "      <td>3</td>\n",
       "      <td>3</td>\n",
       "      <td>3</td>\n",
       "    </tr>\n",
       "    <tr>\n",
       "      <th>1</th>\n",
       "      <td>5</td>\n",
       "      <td>5</td>\n",
       "      <td>5</td>\n",
       "    </tr>\n",
       "    <tr>\n",
       "      <th>2</th>\n",
       "      <td>3</td>\n",
       "      <td>3</td>\n",
       "      <td>3</td>\n",
       "    </tr>\n",
       "    <tr>\n",
       "      <th>3</th>\n",
       "      <td>1</td>\n",
       "      <td>1</td>\n",
       "      <td>1</td>\n",
       "    </tr>\n",
       "    <tr>\n",
       "      <th>4</th>\n",
       "      <td>0</td>\n",
       "      <td>0</td>\n",
       "      <td>0</td>\n",
       "    </tr>\n",
       "  </tbody>\n",
       "</table>\n",
       "</div>"
      ],
      "text/plain": [
       "   lr  l1  l2\n",
       "0   3   3   3\n",
       "1   5   5   5\n",
       "2   3   3   3\n",
       "3   1   1   1\n",
       "4   0   0   0"
      ]
     },
     "execution_count": 32,
     "metadata": {},
     "output_type": "execute_result"
    }
   ],
   "source": [
    "# Predict the class and the probability for each\n",
    "\n",
    "y_pred = list()\n",
    "y_prob = list()\n",
    "\n",
    "coeff_labels = ['lr', 'l1', 'l2']\n",
    "coeff_models = [lr, lr_l1, lr_l2]\n",
    "\n",
    "for lab,mod in zip(coeff_labels, coeff_models):\n",
    "    y_pred.append(pd.Series(mod.predict(X_test), name=lab))\n",
    "    y_prob.append(pd.Series(mod.predict_proba(X_test).max(axis=1), name=lab))\n",
    "    \n",
    "y_pred = pd.concat(y_pred, axis=1)\n",
    "y_prob = pd.concat(y_prob, axis=1)\n",
    "\n",
    "y_pred.head()\n",
    "\n"
   ]
  },
  {
   "cell_type": "code",
   "execution_count": 33,
   "metadata": {},
   "outputs": [
    {
     "data": {
      "text/html": [
       "<div>\n",
       "<style scoped>\n",
       "    .dataframe tbody tr th:only-of-type {\n",
       "        vertical-align: middle;\n",
       "    }\n",
       "\n",
       "    .dataframe tbody tr th {\n",
       "        vertical-align: top;\n",
       "    }\n",
       "\n",
       "    .dataframe thead th {\n",
       "        text-align: right;\n",
       "    }\n",
       "</style>\n",
       "<table border=\"1\" class=\"dataframe\">\n",
       "  <thead>\n",
       "    <tr style=\"text-align: right;\">\n",
       "      <th></th>\n",
       "      <th>lr</th>\n",
       "      <th>l1</th>\n",
       "      <th>l2</th>\n",
       "    </tr>\n",
       "  </thead>\n",
       "  <tbody>\n",
       "    <tr>\n",
       "      <th>0</th>\n",
       "      <td>1.0</td>\n",
       "      <td>0.998944</td>\n",
       "      <td>1.000000</td>\n",
       "    </tr>\n",
       "    <tr>\n",
       "      <th>1</th>\n",
       "      <td>1.0</td>\n",
       "      <td>0.999442</td>\n",
       "      <td>1.000000</td>\n",
       "    </tr>\n",
       "    <tr>\n",
       "      <th>2</th>\n",
       "      <td>1.0</td>\n",
       "      <td>0.995297</td>\n",
       "      <td>0.999996</td>\n",
       "    </tr>\n",
       "    <tr>\n",
       "      <th>3</th>\n",
       "      <td>1.0</td>\n",
       "      <td>0.999174</td>\n",
       "      <td>1.000000</td>\n",
       "    </tr>\n",
       "    <tr>\n",
       "      <th>4</th>\n",
       "      <td>1.0</td>\n",
       "      <td>0.999924</td>\n",
       "      <td>0.999999</td>\n",
       "    </tr>\n",
       "  </tbody>\n",
       "</table>\n",
       "</div>"
      ],
      "text/plain": [
       "    lr        l1        l2\n",
       "0  1.0  0.998944  1.000000\n",
       "1  1.0  0.999442  1.000000\n",
       "2  1.0  0.995297  0.999996\n",
       "3  1.0  0.999174  1.000000\n",
       "4  1.0  0.999924  0.999999"
      ]
     },
     "execution_count": 33,
     "metadata": {},
     "output_type": "execute_result"
    }
   ],
   "source": [
    "y_prob.head()"
   ]
  },
  {
   "cell_type": "code",
   "execution_count": 34,
   "metadata": {},
   "outputs": [
    {
     "data": {
      "text/html": [
       "<div>\n",
       "<style scoped>\n",
       "    .dataframe tbody tr th:only-of-type {\n",
       "        vertical-align: middle;\n",
       "    }\n",
       "\n",
       "    .dataframe tbody tr th {\n",
       "        vertical-align: top;\n",
       "    }\n",
       "\n",
       "    .dataframe thead th {\n",
       "        text-align: right;\n",
       "    }\n",
       "</style>\n",
       "<table border=\"1\" class=\"dataframe\">\n",
       "  <thead>\n",
       "    <tr style=\"text-align: right;\">\n",
       "      <th></th>\n",
       "      <th>lr</th>\n",
       "      <th>l1</th>\n",
       "      <th>l2</th>\n",
       "    </tr>\n",
       "  </thead>\n",
       "  <tbody>\n",
       "    <tr>\n",
       "      <th>0</th>\n",
       "      <td>3</td>\n",
       "      <td>3</td>\n",
       "      <td>3</td>\n",
       "    </tr>\n",
       "    <tr>\n",
       "      <th>1</th>\n",
       "      <td>5</td>\n",
       "      <td>5</td>\n",
       "      <td>5</td>\n",
       "    </tr>\n",
       "    <tr>\n",
       "      <th>2</th>\n",
       "      <td>3</td>\n",
       "      <td>3</td>\n",
       "      <td>3</td>\n",
       "    </tr>\n",
       "    <tr>\n",
       "      <th>3</th>\n",
       "      <td>1</td>\n",
       "      <td>1</td>\n",
       "      <td>1</td>\n",
       "    </tr>\n",
       "    <tr>\n",
       "      <th>4</th>\n",
       "      <td>0</td>\n",
       "      <td>0</td>\n",
       "      <td>0</td>\n",
       "    </tr>\n",
       "    <tr>\n",
       "      <th>...</th>\n",
       "      <td>...</td>\n",
       "      <td>...</td>\n",
       "      <td>...</td>\n",
       "    </tr>\n",
       "    <tr>\n",
       "      <th>3085</th>\n",
       "      <td>1</td>\n",
       "      <td>2</td>\n",
       "      <td>1</td>\n",
       "    </tr>\n",
       "    <tr>\n",
       "      <th>3086</th>\n",
       "      <td>3</td>\n",
       "      <td>3</td>\n",
       "      <td>3</td>\n",
       "    </tr>\n",
       "    <tr>\n",
       "      <th>3087</th>\n",
       "      <td>1</td>\n",
       "      <td>1</td>\n",
       "      <td>1</td>\n",
       "    </tr>\n",
       "    <tr>\n",
       "      <th>3088</th>\n",
       "      <td>1</td>\n",
       "      <td>1</td>\n",
       "      <td>1</td>\n",
       "    </tr>\n",
       "    <tr>\n",
       "      <th>3089</th>\n",
       "      <td>5</td>\n",
       "      <td>5</td>\n",
       "      <td>5</td>\n",
       "    </tr>\n",
       "  </tbody>\n",
       "</table>\n",
       "<p>3090 rows × 3 columns</p>\n",
       "</div>"
      ],
      "text/plain": [
       "      lr  l1  l2\n",
       "0      3   3   3\n",
       "1      5   5   5\n",
       "2      3   3   3\n",
       "3      1   1   1\n",
       "4      0   0   0\n",
       "...   ..  ..  ..\n",
       "3085   1   2   1\n",
       "3086   3   3   3\n",
       "3087   1   1   1\n",
       "3088   1   1   1\n",
       "3089   5   5   5\n",
       "\n",
       "[3090 rows x 3 columns]"
      ]
     },
     "execution_count": 34,
     "metadata": {},
     "output_type": "execute_result"
    }
   ],
   "source": [
    "y_pred"
   ]
  },
  {
   "cell_type": "markdown",
   "metadata": {},
   "source": [
    "<span style=\"color:red\">---------------------------------------------------------------------------------------------</span>\n",
    "## <span style=\"color:red\">RESPOSTA</span>\n",
    "\n",
    "Nesta etapa é realizada a predição dos valores para cada modelo e a probabilidade.\n",
    "\n",
    "<span style=\"color:red\">---------------------------------------------------------------------------------------------</span>"
   ]
  },
  {
   "cell_type": "code",
   "execution_count": null,
   "metadata": {},
   "outputs": [],
   "source": []
  },
  {
   "cell_type": "markdown",
   "metadata": {},
   "source": [
    "## Question 7\n",
    "\n",
    "For each model, calculate the following error metrics: \n",
    "\n",
    "* accuracy\n",
    "* precision\n",
    "* recall\n",
    "* fscore\n",
    "* confusion matrix\n",
    "\n",
    "Decide how to combine the multi-class metrics into a single value for each model."
   ]
  },
  {
   "cell_type": "code",
   "execution_count": 35,
   "metadata": {},
   "outputs": [],
   "source": [
    "from sklearn.metrics import precision_recall_fscore_support as score\n",
    "from sklearn.metrics import confusion_matrix, accuracy_score, roc_auc_score\n",
    "from sklearn.preprocessing import label_binarize\n",
    "\n",
    "metrics = list()\n",
    "cm = dict()\n",
    "\n",
    "for lab in coeff_labels:\n",
    "\n",
    "    # Preciision, recall, f-score from the multi-class support function\n",
    "    precision, recall, fscore, _ = score(y_test, y_pred[lab], average='weighted')\n",
    "    \n",
    "    # The usual way to calculate accuracy\n",
    "    accuracy = accuracy_score(y_test, y_pred[lab])\n",
    "    \n",
    "    # ROC-AUC scores can be calculated by binarizing the data\n",
    "    auc = roc_auc_score(label_binarize(y_test, classes=[0,1,2,3,4,5]),\n",
    "              label_binarize(y_pred[lab], classes=[0,1,2,3,4,5]), \n",
    "              average='weighted')\n",
    "    \n",
    "    # Last, the confusion matrix\n",
    "    cm[lab] = confusion_matrix(y_test, y_pred[lab])\n",
    "    \n",
    "    metrics.append(pd.Series({'precision':precision, 'recall':recall, \n",
    "                              'fscore':fscore, 'accuracy':accuracy,\n",
    "                              'auc':auc}, \n",
    "                             name=lab))\n",
    "\n",
    "metrics = pd.concat(metrics, axis=1)\n"
   ]
  },
  {
   "cell_type": "code",
   "execution_count": 36,
   "metadata": {},
   "outputs": [
    {
     "data": {
      "text/html": [
       "<div>\n",
       "<style scoped>\n",
       "    .dataframe tbody tr th:only-of-type {\n",
       "        vertical-align: middle;\n",
       "    }\n",
       "\n",
       "    .dataframe tbody tr th {\n",
       "        vertical-align: top;\n",
       "    }\n",
       "\n",
       "    .dataframe thead th {\n",
       "        text-align: right;\n",
       "    }\n",
       "</style>\n",
       "<table border=\"1\" class=\"dataframe\">\n",
       "  <thead>\n",
       "    <tr style=\"text-align: right;\">\n",
       "      <th></th>\n",
       "      <th>lr</th>\n",
       "      <th>l1</th>\n",
       "      <th>l2</th>\n",
       "    </tr>\n",
       "  </thead>\n",
       "  <tbody>\n",
       "    <tr>\n",
       "      <th>precision</th>\n",
       "      <td>0.983785</td>\n",
       "      <td>0.983835</td>\n",
       "      <td>0.983837</td>\n",
       "    </tr>\n",
       "    <tr>\n",
       "      <th>recall</th>\n",
       "      <td>0.983819</td>\n",
       "      <td>0.983819</td>\n",
       "      <td>0.983819</td>\n",
       "    </tr>\n",
       "    <tr>\n",
       "      <th>fscore</th>\n",
       "      <td>0.983790</td>\n",
       "      <td>0.983815</td>\n",
       "      <td>0.983823</td>\n",
       "    </tr>\n",
       "    <tr>\n",
       "      <th>accuracy</th>\n",
       "      <td>0.983819</td>\n",
       "      <td>0.983819</td>\n",
       "      <td>0.983819</td>\n",
       "    </tr>\n",
       "    <tr>\n",
       "      <th>auc</th>\n",
       "      <td>0.990181</td>\n",
       "      <td>0.990144</td>\n",
       "      <td>0.990158</td>\n",
       "    </tr>\n",
       "  </tbody>\n",
       "</table>\n",
       "</div>"
      ],
      "text/plain": [
       "                 lr        l1        l2\n",
       "precision  0.983785  0.983835  0.983837\n",
       "recall     0.983819  0.983819  0.983819\n",
       "fscore     0.983790  0.983815  0.983823\n",
       "accuracy   0.983819  0.983819  0.983819\n",
       "auc        0.990181  0.990144  0.990158"
      ]
     },
     "execution_count": 36,
     "metadata": {},
     "output_type": "execute_result"
    }
   ],
   "source": [
    "#Run the metrics\n",
    "metrics"
   ]
  },
  {
   "cell_type": "markdown",
   "metadata": {},
   "source": [
    "<span style=\"color:red\">---------------------------------------------------------------------------------------------</span>\n",
    "## <span style=\"color:red\">RESPOSTA</span>\n",
    "\n",
    "Foram calculadas as métricas de avaliação dos modelos: acurácia, precisão, recall, f-score e a área sob a curva ROC. Os valores de todas as métricas foram quase iguais entre os métodos.\n",
    "\n",
    "\n",
    "<span style=\"color:red\">---------------------------------------------------------------------------------------------</span>"
   ]
  },
  {
   "cell_type": "markdown",
   "metadata": {},
   "source": [
    "## Question 8\n",
    "\n",
    "Display or plot the confusion matrix for each model."
   ]
  },
  {
   "cell_type": "code",
   "execution_count": 37,
   "metadata": {},
   "outputs": [
    {
     "data": {
      "image/png": "[encoded data removed]",
      "text/plain": [
       "<Figure size 864x720 with 7 Axes>"
      ]
     },
     "metadata": {},
     "output_type": "display_data"
    }
   ],
   "source": [
    "\n",
    "fig, axList = plt.subplots(nrows=2, ncols=2)\n",
    "axList = axList.flatten()\n",
    "fig.set_size_inches(12, 10)\n",
    "\n",
    "axList[-1].axis('off')\n",
    "\n",
    "for ax,lab in zip(axList[:-1], coeff_labels):\n",
    "    sns.heatmap(cm[lab], ax=ax, annot=True, fmt='d');\n",
    "    ax.set(title=lab);\n",
    "    \n",
    "plt.tight_layout()\n"
   ]
  },
  {
   "cell_type": "markdown",
   "metadata": {},
   "source": [
    "<span style=\"color:red\">---------------------------------------------------------------------------------------------</span>\n",
    "## <span style=\"color:red\">RESPOSTA</span>\n",
    "\n",
    "Aqui é plotada a matriz de confusão para cada um dos métodos. Observa-se que as classes 1 e 2 foram as que apresentaram mais erros de predição.\n",
    "\n",
    "<span style=\"color:red\">---------------------------------------------------------------------------------------------</span>"
   ]
  },
  {
   "cell_type": "markdown",
   "metadata": {
    "collapsed": true
   },
   "source": [
    "## Question 9\n",
    " Identify highly correlated columns and drop those columns before building models"
   ]
  },
  {
   "cell_type": "code",
   "execution_count": 23,
   "metadata": {},
   "outputs": [
    {
     "name": "stdout",
     "output_type": "stream",
     "text": [
      "(7209, 561)\n",
      "(7209, 50)\n",
      "(3090, 561)\n"
     ]
    }
   ],
   "source": [
    "from sklearn.feature_selection import SelectKBest\n",
    "from sklearn.feature_selection import chi2\n",
    "from sklearn.feature_selection import VarianceThreshold\n",
    "\n",
    "\n",
    "X_data = data.iloc[:, :-1]\n",
    "\n",
    "\n",
    "#threshold with .7\n",
    "sel = VarianceThreshold(threshold=(.7 * (1 - .7)))\n",
    "X_data = pd.DataFrame(sel.fit_transform(X_data))\n",
    "\n",
    "\n",
    "feature_cols = X_data.columns[:]\n",
    "\n",
    "\n",
    "# Dividindo os subjconjuntos de treino e teste, seguindo os mesmos\n",
    "# Indices obtidos com Stratified Shuffle Split, agora com os dados\n",
    "# Com menos features\n",
    " \n",
    "\n",
    "X_train_new = X_data.loc[train_idx, :]\n",
    "\n",
    "y_train_new = data.loc[train_idx, 'Activity']\n",
    " \n",
    "X_test_new  = X_data.loc[test_idx, :]\n",
    "y_test_new  = data.loc[test_idx, 'Activity']\n",
    " \n",
    "print(X_train.shape)\n",
    "print(X_train_new.shape)\n",
    " \n",
    "print(X_test.shape)"
   ]
  },
  {
   "cell_type": "markdown",
   "metadata": {},
   "source": [
    " Repeat Model building with new training data after removing higly correlated columns"
   ]
  },
  {
   "cell_type": "code",
   "execution_count": 25,
   "metadata": {},
   "outputs": [],
   "source": [
    "# Try standard, L1 and L2 Logistic regression\n",
    "lr_new = LogisticRegression(max_iter=10000, penalty='none').fit(X_train_new, y_train_new)\n",
    "with open('arquivo_lr_new.pickle', 'wb') as f:\n",
    "    pickle.dump(lr_new, f)"
   ]
  },
  {
   "cell_type": "code",
   "execution_count": 33,
   "metadata": {},
   "outputs": [],
   "source": [
    "lr_l1_new = LogisticRegressionCV(Cs=10, cv=4, penalty='l1', solver='liblinear', max_iter=10000).fit(X_train_new, y_train_new)\n",
    "with open('arquivo_lr_l1_new.pickle', 'wb') as f:\n",
    "    pickle.dump(lr_l1_new, f)"
   ]
  },
  {
   "cell_type": "code",
   "execution_count": 31,
   "metadata": {},
   "outputs": [],
   "source": [
    "lr_l2_new = LogisticRegressionCV(Cs=10, cv=4, penalty='l2', max_iter=10000).fit(X_train_new, y_train_new)\n",
    "with open('arquivo_lr_l2_new.pickle', 'wb') as f:\n",
    "    pickle.dump(lr_l2_new, f)"
   ]
  },
  {
   "cell_type": "code",
   "execution_count": 47,
   "metadata": {},
   "outputs": [
    {
     "name": "stderr",
     "output_type": "stream",
     "text": [
      "C:\\Users\\maria\\AppData\\Local\\Programs\\Python\\Python39\\lib\\site-packages\\sklearn\\linear_model\\_sag.py:328: ConvergenceWarning: The max_iter was reached which means the coef_ did not converge\n",
      "  warnings.warn(\"The max_iter was reached which means \"\n",
      "C:\\Users\\maria\\AppData\\Local\\Programs\\Python\\Python39\\lib\\site-packages\\sklearn\\linear_model\\_sag.py:328: ConvergenceWarning: The max_iter was reached which means the coef_ did not converge\n",
      "  warnings.warn(\"The max_iter was reached which means \"\n",
      "C:\\Users\\maria\\AppData\\Local\\Programs\\Python\\Python39\\lib\\site-packages\\sklearn\\linear_model\\_sag.py:328: ConvergenceWarning: The max_iter was reached which means the coef_ did not converge\n",
      "  warnings.warn(\"The max_iter was reached which means \"\n",
      "C:\\Users\\maria\\AppData\\Local\\Programs\\Python\\Python39\\lib\\site-packages\\sklearn\\linear_model\\_sag.py:328: ConvergenceWarning: The max_iter was reached which means the coef_ did not converge\n",
      "  warnings.warn(\"The max_iter was reached which means \"\n",
      "C:\\Users\\maria\\AppData\\Local\\Programs\\Python\\Python39\\lib\\site-packages\\sklearn\\linear_model\\_sag.py:328: ConvergenceWarning: The max_iter was reached which means the coef_ did not converge\n",
      "  warnings.warn(\"The max_iter was reached which means \"\n",
      "C:\\Users\\maria\\AppData\\Local\\Programs\\Python\\Python39\\lib\\site-packages\\sklearn\\linear_model\\_sag.py:328: ConvergenceWarning: The max_iter was reached which means the coef_ did not converge\n",
      "  warnings.warn(\"The max_iter was reached which means \"\n",
      "C:\\Users\\maria\\AppData\\Local\\Programs\\Python\\Python39\\lib\\site-packages\\sklearn\\linear_model\\_sag.py:328: ConvergenceWarning: The max_iter was reached which means the coef_ did not converge\n",
      "  warnings.warn(\"The max_iter was reached which means \"\n",
      "C:\\Users\\maria\\AppData\\Local\\Programs\\Python\\Python39\\lib\\site-packages\\sklearn\\linear_model\\_sag.py:328: ConvergenceWarning: The max_iter was reached which means the coef_ did not converge\n",
      "  warnings.warn(\"The max_iter was reached which means \"\n",
      "C:\\Users\\maria\\AppData\\Local\\Programs\\Python\\Python39\\lib\\site-packages\\sklearn\\linear_model\\_sag.py:328: ConvergenceWarning: The max_iter was reached which means the coef_ did not converge\n",
      "  warnings.warn(\"The max_iter was reached which means \"\n",
      "C:\\Users\\maria\\AppData\\Local\\Programs\\Python\\Python39\\lib\\site-packages\\sklearn\\linear_model\\_sag.py:328: ConvergenceWarning: The max_iter was reached which means the coef_ did not converge\n",
      "  warnings.warn(\"The max_iter was reached which means \"\n",
      "C:\\Users\\maria\\AppData\\Local\\Programs\\Python\\Python39\\lib\\site-packages\\sklearn\\linear_model\\_sag.py:328: ConvergenceWarning: The max_iter was reached which means the coef_ did not converge\n",
      "  warnings.warn(\"The max_iter was reached which means \"\n",
      "C:\\Users\\maria\\AppData\\Local\\Programs\\Python\\Python39\\lib\\site-packages\\sklearn\\linear_model\\_sag.py:328: ConvergenceWarning: The max_iter was reached which means the coef_ did not converge\n",
      "  warnings.warn(\"The max_iter was reached which means \"\n",
      "C:\\Users\\maria\\AppData\\Local\\Programs\\Python\\Python39\\lib\\site-packages\\sklearn\\linear_model\\_sag.py:328: ConvergenceWarning: The max_iter was reached which means the coef_ did not converge\n",
      "  warnings.warn(\"The max_iter was reached which means \"\n",
      "C:\\Users\\maria\\AppData\\Local\\Programs\\Python\\Python39\\lib\\site-packages\\sklearn\\linear_model\\_sag.py:328: ConvergenceWarning: The max_iter was reached which means the coef_ did not converge\n",
      "  warnings.warn(\"The max_iter was reached which means \"\n",
      "C:\\Users\\maria\\AppData\\Local\\Programs\\Python\\Python39\\lib\\site-packages\\sklearn\\linear_model\\_sag.py:328: ConvergenceWarning: The max_iter was reached which means the coef_ did not converge\n",
      "  warnings.warn(\"The max_iter was reached which means \"\n",
      "C:\\Users\\maria\\AppData\\Local\\Programs\\Python\\Python39\\lib\\site-packages\\sklearn\\linear_model\\_sag.py:328: ConvergenceWarning: The max_iter was reached which means the coef_ did not converge\n",
      "  warnings.warn(\"The max_iter was reached which means \"\n",
      "C:\\Users\\maria\\AppData\\Local\\Programs\\Python\\Python39\\lib\\site-packages\\sklearn\\linear_model\\_sag.py:328: ConvergenceWarning: The max_iter was reached which means the coef_ did not converge\n",
      "  warnings.warn(\"The max_iter was reached which means \"\n",
      "C:\\Users\\maria\\AppData\\Local\\Programs\\Python\\Python39\\lib\\site-packages\\sklearn\\linear_model\\_sag.py:328: ConvergenceWarning: The max_iter was reached which means the coef_ did not converge\n",
      "  warnings.warn(\"The max_iter was reached which means \"\n",
      "C:\\Users\\maria\\AppData\\Local\\Programs\\Python\\Python39\\lib\\site-packages\\sklearn\\linear_model\\_sag.py:328: ConvergenceWarning: The max_iter was reached which means the coef_ did not converge\n",
      "  warnings.warn(\"The max_iter was reached which means \"\n",
      "C:\\Users\\maria\\AppData\\Local\\Programs\\Python\\Python39\\lib\\site-packages\\sklearn\\linear_model\\_sag.py:328: ConvergenceWarning: The max_iter was reached which means the coef_ did not converge\n",
      "  warnings.warn(\"The max_iter was reached which means \"\n",
      "C:\\Users\\maria\\AppData\\Local\\Programs\\Python\\Python39\\lib\\site-packages\\sklearn\\linear_model\\_sag.py:328: ConvergenceWarning: The max_iter was reached which means the coef_ did not converge\n",
      "  warnings.warn(\"The max_iter was reached which means \"\n",
      "C:\\Users\\maria\\AppData\\Local\\Programs\\Python\\Python39\\lib\\site-packages\\sklearn\\linear_model\\_sag.py:328: ConvergenceWarning: The max_iter was reached which means the coef_ did not converge\n",
      "  warnings.warn(\"The max_iter was reached which means \"\n",
      "C:\\Users\\maria\\AppData\\Local\\Programs\\Python\\Python39\\lib\\site-packages\\sklearn\\linear_model\\_sag.py:328: ConvergenceWarning: The max_iter was reached which means the coef_ did not converge\n",
      "  warnings.warn(\"The max_iter was reached which means \"\n"
     ]
    }
   ],
   "source": [
    "#Try with different solvers like ‘newton-cg’, ‘lbfgs’, ‘sag’, ‘saga’ and give your observations\n",
    "lr_l1_new_saga = LogisticRegressionCV(Cs=10, cv=4, penalty='l1', solver='saga', max_iter=1000).fit(X_train_new, y_train_new)\n",
    "with open('arquivo_lr_l1_new_saga.pickle', 'wb') as f:\n",
    "    pickle.dump(lr_l1_new_saga, f)"
   ]
  },
  {
   "cell_type": "code",
   "execution_count": null,
   "metadata": {},
   "outputs": [],
   "source": [
    "lr_l2_new_saga = LogisticRegressionCV(Cs=10, cv=4, penalty='l2', solver='saga', max_iter=10000).fit(X_train_new, y_train_new)\n",
    "lr_l2_new_newtoncg = LogisticRegressionCV(Cs=10, cv=4, penalty='l2', solver='newton-cg', max_iter=10000).fit(X_train_new, y_train_new)\n",
    "lr_l2_new_sag = LogisticRegressionCV(Cs=10, cv=4, penalty='l2', solver='sag',max_iter=10000).fit(X_train_new, y_train_new)\n",
    "lr_l2_new_liblinear = LogisticRegressionCV(Cs=10, cv=4, penalty='l2', solver='liblinear',max_iter=10000).fit(X_train_new, y_train_new)"
   ]
  },
  {
   "cell_type": "markdown",
   "metadata": {},
   "source": [
    "<span style=\"color:red\">---------------------------------------------------------------------------------------------</span>\n",
    "## <span style=\"color:red\">RESPOSTA</span>\n",
    "\n",
    "Para executarmos as regressões logisticas aumentamos o max_iter para 10000. A regressão lr_new demorou 1m e 16.9s, enquanto lr_l1_new e lr_l2_new demoraram 25m 55.5s e 7m 53.4s, respectivamente. Como era esperado, a regressão com penalidade l1 foi a mais lenta.\n",
    "\n",
    "<span style=\"color:red\">---------------------------------------------------------------------------------------------</span>"
   ]
  },
  {
   "cell_type": "markdown",
   "metadata": {},
   "source": [
    "## Question 10\n",
    "\n",
    "Compare the magnitudes of the coefficients for each of the models. If one-vs-rest fitting was used, each set of coefficients can be plotted separately. "
   ]
  },
  {
   "cell_type": "code",
   "execution_count": 34,
   "metadata": {},
   "outputs": [
    {
     "data": {
      "text/html": [
       "<div>\n",
       "<style scoped>\n",
       "    .dataframe tbody tr th:only-of-type {\n",
       "        vertical-align: middle;\n",
       "    }\n",
       "\n",
       "    .dataframe tbody tr th {\n",
       "        vertical-align: top;\n",
       "    }\n",
       "\n",
       "    .dataframe thead tr th {\n",
       "        text-align: left;\n",
       "    }\n",
       "</style>\n",
       "<table border=\"1\" class=\"dataframe\">\n",
       "  <thead>\n",
       "    <tr>\n",
       "      <th></th>\n",
       "      <th colspan=\"6\" halign=\"left\">lr_new</th>\n",
       "      <th colspan=\"6\" halign=\"left\">l1_new</th>\n",
       "      <th colspan=\"6\" halign=\"left\">l2_new</th>\n",
       "    </tr>\n",
       "    <tr>\n",
       "      <th></th>\n",
       "      <th>0</th>\n",
       "      <th>1</th>\n",
       "      <th>2</th>\n",
       "      <th>3</th>\n",
       "      <th>4</th>\n",
       "      <th>5</th>\n",
       "      <th>0</th>\n",
       "      <th>1</th>\n",
       "      <th>2</th>\n",
       "      <th>3</th>\n",
       "      <th>4</th>\n",
       "      <th>5</th>\n",
       "      <th>0</th>\n",
       "      <th>1</th>\n",
       "      <th>2</th>\n",
       "      <th>3</th>\n",
       "      <th>4</th>\n",
       "      <th>5</th>\n",
       "    </tr>\n",
       "  </thead>\n",
       "  <tbody>\n",
       "    <tr>\n",
       "      <th>26</th>\n",
       "      <td>-2.621479</td>\n",
       "      <td>-3.582707</td>\n",
       "      <td>-6.484363</td>\n",
       "      <td>17.923275</td>\n",
       "      <td>9.237122</td>\n",
       "      <td>-14.471848</td>\n",
       "      <td>0.000000</td>\n",
       "      <td>3.183328</td>\n",
       "      <td>-2.645086</td>\n",
       "      <td>23.052076</td>\n",
       "      <td>13.005409</td>\n",
       "      <td>-13.503126</td>\n",
       "      <td>-2.190071</td>\n",
       "      <td>-1.690539</td>\n",
       "      <td>-4.619085</td>\n",
       "      <td>16.324051</td>\n",
       "      <td>7.873468</td>\n",
       "      <td>-15.697825</td>\n",
       "    </tr>\n",
       "    <tr>\n",
       "      <th>17</th>\n",
       "      <td>-1.362004</td>\n",
       "      <td>-1.479297</td>\n",
       "      <td>-3.435012</td>\n",
       "      <td>5.426840</td>\n",
       "      <td>-3.192928</td>\n",
       "      <td>4.042401</td>\n",
       "      <td>0.000000</td>\n",
       "      <td>1.516380</td>\n",
       "      <td>-1.385909</td>\n",
       "      <td>1.557960</td>\n",
       "      <td>-3.910492</td>\n",
       "      <td>3.246197</td>\n",
       "      <td>-1.726489</td>\n",
       "      <td>-0.263484</td>\n",
       "      <td>-2.212646</td>\n",
       "      <td>4.649558</td>\n",
       "      <td>-3.774453</td>\n",
       "      <td>3.327514</td>\n",
       "    </tr>\n",
       "    <tr>\n",
       "      <th>9</th>\n",
       "      <td>0.861411</td>\n",
       "      <td>-4.164291</td>\n",
       "      <td>-3.449937</td>\n",
       "      <td>2.452355</td>\n",
       "      <td>2.172823</td>\n",
       "      <td>2.127640</td>\n",
       "      <td>0.597475</td>\n",
       "      <td>-0.753957</td>\n",
       "      <td>0.724566</td>\n",
       "      <td>-0.092237</td>\n",
       "      <td>0.042373</td>\n",
       "      <td>0.255373</td>\n",
       "      <td>0.528450</td>\n",
       "      <td>-2.609013</td>\n",
       "      <td>-1.894535</td>\n",
       "      <td>1.517371</td>\n",
       "      <td>1.261161</td>\n",
       "      <td>1.196566</td>\n",
       "    </tr>\n",
       "    <tr>\n",
       "      <th>23</th>\n",
       "      <td>5.237577</td>\n",
       "      <td>2.772766</td>\n",
       "      <td>-4.598497</td>\n",
       "      <td>-3.445316</td>\n",
       "      <td>0.993757</td>\n",
       "      <td>-0.960286</td>\n",
       "      <td>0.000000</td>\n",
       "      <td>0.888068</td>\n",
       "      <td>-0.235973</td>\n",
       "      <td>-2.520299</td>\n",
       "      <td>0.063856</td>\n",
       "      <td>0.000000</td>\n",
       "      <td>2.602643</td>\n",
       "      <td>3.771225</td>\n",
       "      <td>-4.142671</td>\n",
       "      <td>-3.022215</td>\n",
       "      <td>1.343270</td>\n",
       "      <td>-0.552253</td>\n",
       "    </tr>\n",
       "    <tr>\n",
       "      <th>22</th>\n",
       "      <td>3.505955</td>\n",
       "      <td>0.115108</td>\n",
       "      <td>-0.288004</td>\n",
       "      <td>5.292664</td>\n",
       "      <td>-4.606468</td>\n",
       "      <td>-4.019255</td>\n",
       "      <td>0.000000</td>\n",
       "      <td>-1.039169</td>\n",
       "      <td>0.714959</td>\n",
       "      <td>6.283195</td>\n",
       "      <td>-1.065433</td>\n",
       "      <td>-0.002404</td>\n",
       "      <td>2.288666</td>\n",
       "      <td>0.157966</td>\n",
       "      <td>0.282010</td>\n",
       "      <td>4.834311</td>\n",
       "      <td>-4.077026</td>\n",
       "      <td>-3.485927</td>\n",
       "    </tr>\n",
       "    <tr>\n",
       "      <th>6</th>\n",
       "      <td>-18.345630</td>\n",
       "      <td>24.064403</td>\n",
       "      <td>-6.671552</td>\n",
       "      <td>-81.232078</td>\n",
       "      <td>48.355232</td>\n",
       "      <td>33.829626</td>\n",
       "      <td>0.000000</td>\n",
       "      <td>10.308735</td>\n",
       "      <td>1.761912</td>\n",
       "      <td>-61.046908</td>\n",
       "      <td>-1.780764</td>\n",
       "      <td>3.293842</td>\n",
       "      <td>-13.155228</td>\n",
       "      <td>23.221776</td>\n",
       "      <td>-9.393214</td>\n",
       "      <td>-89.217697</td>\n",
       "      <td>50.739886</td>\n",
       "      <td>37.804477</td>\n",
       "    </tr>\n",
       "    <tr>\n",
       "      <th>44</th>\n",
       "      <td>-4.314884</td>\n",
       "      <td>-4.667341</td>\n",
       "      <td>-1.618338</td>\n",
       "      <td>1.739336</td>\n",
       "      <td>-0.305494</td>\n",
       "      <td>9.166722</td>\n",
       "      <td>0.000000</td>\n",
       "      <td>-0.857979</td>\n",
       "      <td>5.228603</td>\n",
       "      <td>-1.280004</td>\n",
       "      <td>-5.572808</td>\n",
       "      <td>5.655559</td>\n",
       "      <td>-1.416239</td>\n",
       "      <td>-3.989888</td>\n",
       "      <td>-0.967603</td>\n",
       "      <td>0.685636</td>\n",
       "      <td>-1.802807</td>\n",
       "      <td>7.490900</td>\n",
       "    </tr>\n",
       "    <tr>\n",
       "      <th>4</th>\n",
       "      <td>-8.929580</td>\n",
       "      <td>-10.176919</td>\n",
       "      <td>-8.790642</td>\n",
       "      <td>13.953373</td>\n",
       "      <td>2.703979</td>\n",
       "      <td>11.239789</td>\n",
       "      <td>0.000000</td>\n",
       "      <td>-0.578056</td>\n",
       "      <td>1.984046</td>\n",
       "      <td>3.233952</td>\n",
       "      <td>-7.256741</td>\n",
       "      <td>3.774572</td>\n",
       "      <td>-5.753909</td>\n",
       "      <td>-7.838731</td>\n",
       "      <td>-6.424698</td>\n",
       "      <td>11.196840</td>\n",
       "      <td>0.132107</td>\n",
       "      <td>8.688391</td>\n",
       "    </tr>\n",
       "    <tr>\n",
       "      <th>7</th>\n",
       "      <td>-34.558046</td>\n",
       "      <td>-3.391714</td>\n",
       "      <td>11.598200</td>\n",
       "      <td>96.521322</td>\n",
       "      <td>-35.581864</td>\n",
       "      <td>-34.587898</td>\n",
       "      <td>-16.386856</td>\n",
       "      <td>4.739359</td>\n",
       "      <td>-6.919977</td>\n",
       "      <td>48.932902</td>\n",
       "      <td>5.218274</td>\n",
       "      <td>15.062829</td>\n",
       "      <td>-18.906917</td>\n",
       "      <td>-4.956018</td>\n",
       "      <td>7.535528</td>\n",
       "      <td>77.717481</td>\n",
       "      <td>-32.925694</td>\n",
       "      <td>-28.464380</td>\n",
       "    </tr>\n",
       "    <tr>\n",
       "      <th>15</th>\n",
       "      <td>0.600980</td>\n",
       "      <td>-13.504016</td>\n",
       "      <td>-2.561828</td>\n",
       "      <td>9.982080</td>\n",
       "      <td>2.635160</td>\n",
       "      <td>2.847625</td>\n",
       "      <td>0.000000</td>\n",
       "      <td>-9.534839</td>\n",
       "      <td>10.344128</td>\n",
       "      <td>4.890898</td>\n",
       "      <td>0.186441</td>\n",
       "      <td>-3.500476</td>\n",
       "      <td>1.397972</td>\n",
       "      <td>-11.728719</td>\n",
       "      <td>-0.801598</td>\n",
       "      <td>8.200975</td>\n",
       "      <td>1.378791</td>\n",
       "      <td>1.552580</td>\n",
       "    </tr>\n",
       "  </tbody>\n",
       "</table>\n",
       "</div>"
      ],
      "text/plain": [
       "       lr_new                                                         \\\n",
       "            0          1          2          3          4          5   \n",
       "26  -2.621479  -3.582707  -6.484363  17.923275   9.237122 -14.471848   \n",
       "17  -1.362004  -1.479297  -3.435012   5.426840  -3.192928   4.042401   \n",
       "9    0.861411  -4.164291  -3.449937   2.452355   2.172823   2.127640   \n",
       "23   5.237577   2.772766  -4.598497  -3.445316   0.993757  -0.960286   \n",
       "22   3.505955   0.115108  -0.288004   5.292664  -4.606468  -4.019255   \n",
       "6  -18.345630  24.064403  -6.671552 -81.232078  48.355232  33.829626   \n",
       "44  -4.314884  -4.667341  -1.618338   1.739336  -0.305494   9.166722   \n",
       "4   -8.929580 -10.176919  -8.790642  13.953373   2.703979  11.239789   \n",
       "7  -34.558046  -3.391714  11.598200  96.521322 -35.581864 -34.587898   \n",
       "15   0.600980 -13.504016  -2.561828   9.982080   2.635160   2.847625   \n",
       "\n",
       "       l1_new                                                         \\\n",
       "            0          1          2          3          4          5   \n",
       "26   0.000000   3.183328  -2.645086  23.052076  13.005409 -13.503126   \n",
       "17   0.000000   1.516380  -1.385909   1.557960  -3.910492   3.246197   \n",
       "9    0.597475  -0.753957   0.724566  -0.092237   0.042373   0.255373   \n",
       "23   0.000000   0.888068  -0.235973  -2.520299   0.063856   0.000000   \n",
       "22   0.000000  -1.039169   0.714959   6.283195  -1.065433  -0.002404   \n",
       "6    0.000000  10.308735   1.761912 -61.046908  -1.780764   3.293842   \n",
       "44   0.000000  -0.857979   5.228603  -1.280004  -5.572808   5.655559   \n",
       "4    0.000000  -0.578056   1.984046   3.233952  -7.256741   3.774572   \n",
       "7  -16.386856   4.739359  -6.919977  48.932902   5.218274  15.062829   \n",
       "15   0.000000  -9.534839  10.344128   4.890898   0.186441  -3.500476   \n",
       "\n",
       "       l2_new                                                        \n",
       "            0          1         2          3          4          5  \n",
       "26  -2.190071  -1.690539 -4.619085  16.324051   7.873468 -15.697825  \n",
       "17  -1.726489  -0.263484 -2.212646   4.649558  -3.774453   3.327514  \n",
       "9    0.528450  -2.609013 -1.894535   1.517371   1.261161   1.196566  \n",
       "23   2.602643   3.771225 -4.142671  -3.022215   1.343270  -0.552253  \n",
       "22   2.288666   0.157966  0.282010   4.834311  -4.077026  -3.485927  \n",
       "6  -13.155228  23.221776 -9.393214 -89.217697  50.739886  37.804477  \n",
       "44  -1.416239  -3.989888 -0.967603   0.685636  -1.802807   7.490900  \n",
       "4   -5.753909  -7.838731 -6.424698  11.196840   0.132107   8.688391  \n",
       "7  -18.906917  -4.956018  7.535528  77.717481 -32.925694 -28.464380  \n",
       "15   1.397972 -11.728719 -0.801598   8.200975   1.378791   1.552580  "
      ]
     },
     "execution_count": 34,
     "metadata": {},
     "output_type": "execute_result"
    }
   ],
   "source": [
    "# Combine all the coefficients into a dataframe for comparison\n",
    "\n",
    "coefficients_new = list()\n",
    "\n",
    "coeff_labels_new = ['lr_new', 'l1_new', 'l2_new']\n",
    "coeff_models_new = [lr_new, lr_l1_new, lr_l2_new]\n",
    "\n",
    "for lab,mod in zip(coeff_labels_new, coeff_models_new):\n",
    "    coeffs = mod.coef_\n",
    "    coeff_label_new = pd.MultiIndex(levels=[[lab], [0,1,2,3,4,5]], \n",
    "                                 codes=[[0,0,0,0,0,0], [0,1,2,3,4,5]])\n",
    "    coefficients_new.append(pd.DataFrame(coeffs.T, columns=coeff_label_new))\n",
    "\n",
    "coefficients_new = pd.concat(coefficients_new, axis=1)\n",
    "\n",
    "coefficients_new.sample(10)"
   ]
  },
  {
   "cell_type": "markdown",
   "metadata": {},
   "source": [
    "Prepare six separate plots for each of the multi-class coefficients."
   ]
  },
  {
   "cell_type": "code",
   "execution_count": 35,
   "metadata": {},
   "outputs": [
    {
     "data": {
      "image/png": "[encoded data removed]",
      "text/plain": [
       "<Figure size 720x720 with 6 Axes>"
      ]
     },
     "metadata": {},
     "output_type": "display_data"
    }
   ],
   "source": [
    "# try the plots with new values\n",
    "# Utilizamos as funcoes fornecidas anteriormente para isso\n",
    "fig, axList = plt.subplots(nrows=3, ncols=2)\n",
    "axList = axList.flatten()\n",
    "fig.set_size_inches(10,10)\n",
    "\n",
    "\n",
    "for ax in enumerate(axList):\n",
    "    loc = ax[0]\n",
    "    ax = ax[1]\n",
    "    \n",
    "    data_aux = coefficients_new.xs(loc, level=1, axis=1)\n",
    "    data_aux.plot(marker='o', ls='', ms=2.0, ax=ax, legend=False)\n",
    "    \n",
    "    if ax is axList[0]:\n",
    "        ax.legend(loc=4)\n",
    "        \n",
    "    ax.set(title='NEW Coefficient Set '+str(loc))\n",
    "\n",
    "plt.tight_layout()"
   ]
  },
  {
   "cell_type": "markdown",
   "metadata": {},
   "source": [
    "## Question 11\n",
    "\n",
    "* Predict and store the class for each model.\n",
    "* Also store the probability for the predicted class for each model. "
   ]
  },
  {
   "cell_type": "code",
   "execution_count": 39,
   "metadata": {},
   "outputs": [
    {
     "data": {
      "text/html": [
       "<div>\n",
       "<style scoped>\n",
       "    .dataframe tbody tr th:only-of-type {\n",
       "        vertical-align: middle;\n",
       "    }\n",
       "\n",
       "    .dataframe tbody tr th {\n",
       "        vertical-align: top;\n",
       "    }\n",
       "\n",
       "    .dataframe thead th {\n",
       "        text-align: right;\n",
       "    }\n",
       "</style>\n",
       "<table border=\"1\" class=\"dataframe\">\n",
       "  <thead>\n",
       "    <tr style=\"text-align: right;\">\n",
       "      <th></th>\n",
       "      <th>lr_new</th>\n",
       "      <th>l1_new</th>\n",
       "      <th>l2_new</th>\n",
       "    </tr>\n",
       "  </thead>\n",
       "  <tbody>\n",
       "    <tr>\n",
       "      <th>0</th>\n",
       "      <td>3</td>\n",
       "      <td>3</td>\n",
       "      <td>3</td>\n",
       "    </tr>\n",
       "    <tr>\n",
       "      <th>1</th>\n",
       "      <td>5</td>\n",
       "      <td>5</td>\n",
       "      <td>5</td>\n",
       "    </tr>\n",
       "    <tr>\n",
       "      <th>2</th>\n",
       "      <td>3</td>\n",
       "      <td>3</td>\n",
       "      <td>3</td>\n",
       "    </tr>\n",
       "    <tr>\n",
       "      <th>3</th>\n",
       "      <td>1</td>\n",
       "      <td>1</td>\n",
       "      <td>1</td>\n",
       "    </tr>\n",
       "    <tr>\n",
       "      <th>4</th>\n",
       "      <td>0</td>\n",
       "      <td>0</td>\n",
       "      <td>0</td>\n",
       "    </tr>\n",
       "  </tbody>\n",
       "</table>\n",
       "</div>"
      ],
      "text/plain": [
       "   lr_new  l1_new  l2_new\n",
       "0       3       3       3\n",
       "1       5       5       5\n",
       "2       3       3       3\n",
       "3       1       1       1\n",
       "4       0       0       0"
      ]
     },
     "execution_count": 39,
     "metadata": {},
     "output_type": "execute_result"
    }
   ],
   "source": [
    "# Predict the class and the probability for each\n",
    "# Utilizamos as funcoes fornecidas anteriormente para isso\n",
    "\n",
    "y_pred_new = list()\n",
    "y_prob_new = list()\n",
    "\n",
    "coeff_labels_new = ['lr_new', 'l1_new', 'l2_new']\n",
    "coeff_models_new = [lr_new, lr_l1_new, lr_l2_new]\n",
    "\n",
    "for lab,mod in zip(coeff_labels_new, coeff_models_new):\n",
    "    y_pred_new.append(pd.Series(mod.predict(X_test_new), name=lab))\n",
    "    y_prob_new.append(pd.Series(mod.predict_proba(X_test_new).max(axis=1), name=lab))\n",
    "    \n",
    "y_pred_new = pd.concat(y_pred_new, axis=1)\n",
    "y_prob_new = pd.concat(y_prob_new, axis=1)\n",
    "\n",
    "y_pred_new.head()"
   ]
  },
  {
   "cell_type": "code",
   "execution_count": 40,
   "metadata": {},
   "outputs": [
    {
     "data": {
      "text/html": [
       "<div>\n",
       "<style scoped>\n",
       "    .dataframe tbody tr th:only-of-type {\n",
       "        vertical-align: middle;\n",
       "    }\n",
       "\n",
       "    .dataframe tbody tr th {\n",
       "        vertical-align: top;\n",
       "    }\n",
       "\n",
       "    .dataframe thead th {\n",
       "        text-align: right;\n",
       "    }\n",
       "</style>\n",
       "<table border=\"1\" class=\"dataframe\">\n",
       "  <thead>\n",
       "    <tr style=\"text-align: right;\">\n",
       "      <th></th>\n",
       "      <th>lr_new</th>\n",
       "      <th>l1_new</th>\n",
       "      <th>l2_new</th>\n",
       "    </tr>\n",
       "  </thead>\n",
       "  <tbody>\n",
       "    <tr>\n",
       "      <th>0</th>\n",
       "      <td>0.999999</td>\n",
       "      <td>0.997245</td>\n",
       "      <td>0.999998</td>\n",
       "    </tr>\n",
       "    <tr>\n",
       "      <th>1</th>\n",
       "      <td>0.999855</td>\n",
       "      <td>0.998116</td>\n",
       "      <td>0.999865</td>\n",
       "    </tr>\n",
       "    <tr>\n",
       "      <th>2</th>\n",
       "      <td>0.999998</td>\n",
       "      <td>0.984634</td>\n",
       "      <td>0.999995</td>\n",
       "    </tr>\n",
       "    <tr>\n",
       "      <th>3</th>\n",
       "      <td>0.878231</td>\n",
       "      <td>0.863715</td>\n",
       "      <td>0.880051</td>\n",
       "    </tr>\n",
       "    <tr>\n",
       "      <th>4</th>\n",
       "      <td>1.000000</td>\n",
       "      <td>0.999995</td>\n",
       "      <td>0.999999</td>\n",
       "    </tr>\n",
       "  </tbody>\n",
       "</table>\n",
       "</div>"
      ],
      "text/plain": [
       "     lr_new    l1_new    l2_new\n",
       "0  0.999999  0.997245  0.999998\n",
       "1  0.999855  0.998116  0.999865\n",
       "2  0.999998  0.984634  0.999995\n",
       "3  0.878231  0.863715  0.880051\n",
       "4  1.000000  0.999995  0.999999"
      ]
     },
     "execution_count": 40,
     "metadata": {},
     "output_type": "execute_result"
    }
   ],
   "source": [
    "y_prob_new.head()"
   ]
  },
  {
   "cell_type": "markdown",
   "metadata": {},
   "source": [
    "## Question 12\n",
    "\n",
    "For each model, calculate the following error metrics: \n",
    "\n",
    "* accuracy\n",
    "* precision\n",
    "* recall\n",
    "* fscore\n",
    "* confusion matrix\n",
    "\n",
    "Decide how to combine the multi-class metrics into a single value for each model."
   ]
  },
  {
   "cell_type": "code",
   "execution_count": 43,
   "metadata": {},
   "outputs": [],
   "source": [
    "# Calculate the error metrics as listed above\n",
    "# Utilizamos as funcoes fornecidas anteriormente para isso\n",
    "\n",
    "metrics_new = list()\n",
    "cm_new = dict()\n",
    "\n",
    "for lab in coeff_labels_new:\n",
    "\n",
    "    # Preciision, recall, f-score from the multi-class support function\n",
    "    precision_new, recall_new, fscore_new, _ = score(y_test_new, y_pred_new[lab], average='weighted')\n",
    "    \n",
    "    # The usual way to calculate accuracy\n",
    "    accuracy_new = accuracy_score(y_test_new, y_pred_new[lab])\n",
    "    \n",
    "    # ROC-AUC scores can be calculated by binarizing the data\n",
    "    auc_new = roc_auc_score(label_binarize(y_test_new, classes=[0,1,2,3,4,5]),\n",
    "              label_binarize(y_pred_new[lab], classes=[0,1,2,3,4,5]), \n",
    "              average='weighted')\n",
    "    \n",
    "    # Last, the confusion matrix\n",
    "    cm_new[lab] = confusion_matrix(y_test_new, y_pred_new[lab])\n",
    "    \n",
    "    metrics_new.append(pd.Series({'precision':precision_new, 'recall':recall_new, \n",
    "                              'fscore':fscore_new, 'accuracy':accuracy_new,\n",
    "                              'auc':auc_new}, \n",
    "                             name=lab))\n",
    "\n",
    "metrics_new = pd.concat(metrics_new, axis=1)"
   ]
  },
  {
   "cell_type": "code",
   "execution_count": 44,
   "metadata": {},
   "outputs": [
    {
     "data": {
      "text/html": [
       "<div>\n",
       "<style scoped>\n",
       "    .dataframe tbody tr th:only-of-type {\n",
       "        vertical-align: middle;\n",
       "    }\n",
       "\n",
       "    .dataframe tbody tr th {\n",
       "        vertical-align: top;\n",
       "    }\n",
       "\n",
       "    .dataframe thead th {\n",
       "        text-align: right;\n",
       "    }\n",
       "</style>\n",
       "<table border=\"1\" class=\"dataframe\">\n",
       "  <thead>\n",
       "    <tr style=\"text-align: right;\">\n",
       "      <th></th>\n",
       "      <th>lr_new</th>\n",
       "      <th>l1_new</th>\n",
       "      <th>l2_new</th>\n",
       "    </tr>\n",
       "  </thead>\n",
       "  <tbody>\n",
       "    <tr>\n",
       "      <th>precision</th>\n",
       "      <td>0.937379</td>\n",
       "      <td>0.937318</td>\n",
       "      <td>0.937088</td>\n",
       "    </tr>\n",
       "    <tr>\n",
       "      <th>recall</th>\n",
       "      <td>0.937217</td>\n",
       "      <td>0.937217</td>\n",
       "      <td>0.936893</td>\n",
       "    </tr>\n",
       "    <tr>\n",
       "      <th>fscore</th>\n",
       "      <td>0.937221</td>\n",
       "      <td>0.937219</td>\n",
       "      <td>0.936900</td>\n",
       "    </tr>\n",
       "    <tr>\n",
       "      <th>accuracy</th>\n",
       "      <td>0.937217</td>\n",
       "      <td>0.937217</td>\n",
       "      <td>0.936893</td>\n",
       "    </tr>\n",
       "    <tr>\n",
       "      <th>auc</th>\n",
       "      <td>0.962353</td>\n",
       "      <td>0.962267</td>\n",
       "      <td>0.962177</td>\n",
       "    </tr>\n",
       "  </tbody>\n",
       "</table>\n",
       "</div>"
      ],
      "text/plain": [
       "             lr_new    l1_new    l2_new\n",
       "precision  0.937379  0.937318  0.937088\n",
       "recall     0.937217  0.937217  0.936893\n",
       "fscore     0.937221  0.937219  0.936900\n",
       "accuracy   0.937217  0.937217  0.936893\n",
       "auc        0.962353  0.962267  0.962177"
      ]
     },
     "execution_count": 44,
     "metadata": {},
     "output_type": "execute_result"
    }
   ],
   "source": [
    "#Run the metrics\n",
    "# Utilizamos as funcoes fornecidas anteriormente para isso\n",
    "metrics_new"
   ]
  },
  {
   "cell_type": "markdown",
   "metadata": {},
   "source": [
    "## Question 13\n",
    "\n",
    "Display or plot the confusion matrix for each model."
   ]
  },
  {
   "cell_type": "code",
   "execution_count": 45,
   "metadata": {},
   "outputs": [
    {
     "data": {
      "image/png": "[encoded data removed]",
      "text/plain": [
       "<Figure size 864x720 with 7 Axes>"
      ]
     },
     "metadata": {},
     "output_type": "display_data"
    }
   ],
   "source": [
    "#plot the confusion matrix\n",
    "# Utilizamos as funcoes fornecidas anteriormente para isso\n",
    "fig, axList = plt.subplots(nrows=2, ncols=2)\n",
    "axList = axList.flatten()\n",
    "fig.set_size_inches(12, 10)\n",
    "\n",
    "axList[-1].axis('off')\n",
    "\n",
    "for ax,lab in zip(axList[:-1], coeff_labels_new):\n",
    "    sns.heatmap(cm_new[lab], ax=ax, annot=True, fmt='d')\n",
    "    ax.set(title=lab);\n",
    "    \n",
    "plt.tight_layout()"
   ]
  },
  {
   "cell_type": "code",
   "execution_count": null,
   "metadata": {},
   "outputs": [],
   "source": [
    "'''arquivo = open('arquivo_lr.picle','rb')\n",
    "data_lr = pickle.load(arquivo)\n",
    "arquivo.close()\n",
    "arquivo_l1 = open('arquivo_lr_l1.picle','rb')\n",
    "data_lr_l1 = pickle.load(arquivo_l1)\n",
    "arquivo_l1.close()\n",
    "arquivo_l2 = open('arquivo_lr_l1.picle','rb')\n",
    "data_lr_l2 = pickle.load(arquivo_l2)\n",
    "arquivo_l2.close()'''\n",
    "\n",
    "# Após carregar os resultados, executamos o exercicio 7 e 8 novamente para obter as metricas e a matriz de confusao anteriores"
   ]
  },
  {
   "cell_type": "code",
   "execution_count": null,
   "metadata": {},
   "outputs": [],
   "source": [
    "# Perform a comparison of the outputs between Question 7 and 12 and give your observation"
   ]
  },
  {
   "cell_type": "markdown",
   "metadata": {},
   "source": [
    "<span style=\"color:red\">---------------------------------------------------------------------------------------------</span>\n",
    "## <span style=\"color:red\">RESPOSTA</span>\n",
    "\n",
    "Da observação dos graficos, temos que aqueles gerados com o novo conjunto de dados apresentaram uma menor dispersão dos dados. Os valores foram organizados no eixo y entre -100 e 100 aproximadamente, enquanto para o conjunto de dados inicial foi de -500 e 500.\n",
    "\n",
    "Com os resultados das métricas encontrados, unimos os resultados em uma tabela para facilitar a comparação. Esperávamos um resultado melhor que o primeiro, visto que realizamos uma seleção de features. No entanto obtivemos valores menores para todas as mátricas.\t\t\n",
    "\n",
    "|  -         | lr_new    |  l1_new   | l2_new    | lr       |\tl1      |\tl2     |\n",
    "|------------|-----------|-----------|-----------| -------- | --------- | -------- |\n",
    "| precision  | 0.937379  | 0.937318  | 0.937088  | 0.983785\t| 0.983835\t| 0.983837 |\n",
    "| recall     | 0.937217  | 0.937217  | 0.936893  | 0.983819\t| 0.983819\t| 0.983819 |\n",
    "| fscore     | 0.937221  | 0.937219  | 0.936900  | 0.983790\t| 0.983815\t| 0.983823 |\n",
    "| accuracy   | 0.937217  | 0.937217  | 0.936893  | 0.983819\t| 0.983819\t| 0.983819 |\n",
    "| auc        | 0.962353  | 0.962267  | 0.962177  | 0.990181\t| 0.990144  | 0.990158 |\n",
    "\n",
    "<span style=\"color:red\">---------------------------------------------------------------------------------------------</span>"
   ]
  },
  {
   "cell_type": "code",
   "execution_count": null,
   "metadata": {},
   "outputs": [],
   "source": [
    "# Perform a comparison of the outputs between Question 8 and 13 and give your observation"
   ]
  },
  {
   "cell_type": "markdown",
   "metadata": {},
   "source": [
    "<span style=\"color:red\">---------------------------------------------------------------------------------------------</span>\n",
    "## <span style=\"color:red\">RESPOSTA</span>\n",
    "\n",
    "\n",
    "\n",
    "<span style=\"color:red\">---------------------------------------------------------------------------------------------</span>"
   ]
  }
 ],
 "metadata": {
  "kernelspec": {
   "display_name": "Python 3",
   "language": "python",
   "name": "python3"
  },
  "language_info": {
   "codemirror_mode": {
    "name": "ipython",
    "version": 3
   },
   "file_extension": ".py",
   "mimetype": "text/x-python",
   "name": "python",
   "nbconvert_exporter": "python",
   "pygments_lexer": "ipython3",
   "version": "3.9.5"
  }
 },
 "nbformat": 4,
 "nbformat_minor": 2
}
